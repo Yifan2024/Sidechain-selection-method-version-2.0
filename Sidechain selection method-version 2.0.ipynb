{
 "cells": [
  {
   "cell_type": "markdown",
   "id": "09d82685",
   "metadata": {},
   "source": [
    "# Part1: construct a receptor-peptide residue interaction library"
   ]
  },
  {
   "cell_type": "code",
   "execution_count": 6,
   "id": "8907173b",
   "metadata": {},
   "outputs": [
    {
     "data": {
      "text/html": [
       "<div>\n",
       "<style scoped>\n",
       "    .dataframe tbody tr th:only-of-type {\n",
       "        vertical-align: middle;\n",
       "    }\n",
       "\n",
       "    .dataframe tbody tr th {\n",
       "        vertical-align: top;\n",
       "    }\n",
       "\n",
       "    .dataframe thead th {\n",
       "        text-align: right;\n",
       "    }\n",
       "</style>\n",
       "<table border=\"1\" class=\"dataframe\">\n",
       "  <thead>\n",
       "    <tr style=\"text-align: right;\">\n",
       "      <th></th>\n",
       "      <th>receptor_residue_generic_number</th>\n",
       "      <th>receptor_amino_acid</th>\n",
       "      <th>peptide_amino_acid</th>\n",
       "      <th>Distance_median</th>\n",
       "      <th>Distance_sd</th>\n",
       "      <th>Angle_median</th>\n",
       "      <th>Angle_sd</th>\n",
       "      <th>count</th>\n",
       "      <th>sum_total_count</th>\n",
       "      <th>frequency(%)</th>\n",
       "    </tr>\n",
       "  </thead>\n",
       "  <tbody>\n",
       "    <tr>\n",
       "      <th>0</th>\n",
       "      <td>1.24x24</td>\n",
       "      <td>F</td>\n",
       "      <td>A</td>\n",
       "      <td>4.4</td>\n",
       "      <td>NaN</td>\n",
       "      <td>142.5</td>\n",
       "      <td>NaN</td>\n",
       "      <td>1</td>\n",
       "      <td>5</td>\n",
       "      <td>20</td>\n",
       "    </tr>\n",
       "    <tr>\n",
       "      <th>1</th>\n",
       "      <td>1.24x24</td>\n",
       "      <td>F</td>\n",
       "      <td>C</td>\n",
       "      <td>7.3</td>\n",
       "      <td>NaN</td>\n",
       "      <td>55.7</td>\n",
       "      <td>NaN</td>\n",
       "      <td>1</td>\n",
       "      <td>5</td>\n",
       "      <td>20</td>\n",
       "    </tr>\n",
       "    <tr>\n",
       "      <th>2</th>\n",
       "      <td>1.24x24</td>\n",
       "      <td>F</td>\n",
       "      <td>T</td>\n",
       "      <td>8.2</td>\n",
       "      <td>0.3</td>\n",
       "      <td>69.4</td>\n",
       "      <td>3.1</td>\n",
       "      <td>3</td>\n",
       "      <td>5</td>\n",
       "      <td>60</td>\n",
       "    </tr>\n",
       "    <tr>\n",
       "      <th>3</th>\n",
       "      <td>1.24x24</td>\n",
       "      <td>K</td>\n",
       "      <td>A</td>\n",
       "      <td>6.7</td>\n",
       "      <td>NaN</td>\n",
       "      <td>125.4</td>\n",
       "      <td>NaN</td>\n",
       "      <td>1</td>\n",
       "      <td>5</td>\n",
       "      <td>20</td>\n",
       "    </tr>\n",
       "    <tr>\n",
       "      <th>4</th>\n",
       "      <td>1.24x24</td>\n",
       "      <td>K</td>\n",
       "      <td>C</td>\n",
       "      <td>8.2</td>\n",
       "      <td>NaN</td>\n",
       "      <td>68.4</td>\n",
       "      <td>NaN</td>\n",
       "      <td>1</td>\n",
       "      <td>5</td>\n",
       "      <td>20</td>\n",
       "    </tr>\n",
       "    <tr>\n",
       "      <th>...</th>\n",
       "      <td>...</td>\n",
       "      <td>...</td>\n",
       "      <td>...</td>\n",
       "      <td>...</td>\n",
       "      <td>...</td>\n",
       "      <td>...</td>\n",
       "      <td>...</td>\n",
       "      <td>...</td>\n",
       "      <td>...</td>\n",
       "      <td>...</td>\n",
       "    </tr>\n",
       "    <tr>\n",
       "      <th>1091</th>\n",
       "      <td>7.43x42</td>\n",
       "      <td>Y</td>\n",
       "      <td>F</td>\n",
       "      <td>10.3</td>\n",
       "      <td>1.2</td>\n",
       "      <td>113.5</td>\n",
       "      <td>41.0</td>\n",
       "      <td>4</td>\n",
       "      <td>12</td>\n",
       "      <td>33</td>\n",
       "    </tr>\n",
       "    <tr>\n",
       "      <th>1092</th>\n",
       "      <td>7.43x42</td>\n",
       "      <td>Y</td>\n",
       "      <td>I</td>\n",
       "      <td>10.8</td>\n",
       "      <td>NaN</td>\n",
       "      <td>140.4</td>\n",
       "      <td>NaN</td>\n",
       "      <td>1</td>\n",
       "      <td>12</td>\n",
       "      <td>8</td>\n",
       "    </tr>\n",
       "    <tr>\n",
       "      <th>1093</th>\n",
       "      <td>7.43x42</td>\n",
       "      <td>Y</td>\n",
       "      <td>K</td>\n",
       "      <td>11.9</td>\n",
       "      <td>0.7</td>\n",
       "      <td>84.9</td>\n",
       "      <td>8.2</td>\n",
       "      <td>4</td>\n",
       "      <td>12</td>\n",
       "      <td>33</td>\n",
       "    </tr>\n",
       "    <tr>\n",
       "      <th>1094</th>\n",
       "      <td>7.43x42</td>\n",
       "      <td>Y</td>\n",
       "      <td>P</td>\n",
       "      <td>10.1</td>\n",
       "      <td>0.0</td>\n",
       "      <td>89.9</td>\n",
       "      <td>5.5</td>\n",
       "      <td>2</td>\n",
       "      <td>12</td>\n",
       "      <td>17</td>\n",
       "    </tr>\n",
       "    <tr>\n",
       "      <th>1095</th>\n",
       "      <td>7.43x42</td>\n",
       "      <td>Y</td>\n",
       "      <td>R</td>\n",
       "      <td>11.8</td>\n",
       "      <td>NaN</td>\n",
       "      <td>124.8</td>\n",
       "      <td>NaN</td>\n",
       "      <td>1</td>\n",
       "      <td>12</td>\n",
       "      <td>8</td>\n",
       "    </tr>\n",
       "  </tbody>\n",
       "</table>\n",
       "<p>1096 rows × 10 columns</p>\n",
       "</div>"
      ],
      "text/plain": [
       "     receptor_residue_generic_number receptor_amino_acid peptide_amino_acid  \\\n",
       "0                            1.24x24                   F                  A   \n",
       "1                            1.24x24                   F                  C   \n",
       "2                            1.24x24                   F                  T   \n",
       "3                            1.24x24                   K                  A   \n",
       "4                            1.24x24                   K                  C   \n",
       "...                              ...                 ...                ...   \n",
       "1091                         7.43x42                   Y                  F   \n",
       "1092                         7.43x42                   Y                  I   \n",
       "1093                         7.43x42                   Y                  K   \n",
       "1094                         7.43x42                   Y                  P   \n",
       "1095                         7.43x42                   Y                  R   \n",
       "\n",
       "      Distance_median  Distance_sd  Angle_median  Angle_sd  count  \\\n",
       "0                 4.4          NaN         142.5       NaN      1   \n",
       "1                 7.3          NaN          55.7       NaN      1   \n",
       "2                 8.2          0.3          69.4       3.1      3   \n",
       "3                 6.7          NaN         125.4       NaN      1   \n",
       "4                 8.2          NaN          68.4       NaN      1   \n",
       "...               ...          ...           ...       ...    ...   \n",
       "1091             10.3          1.2         113.5      41.0      4   \n",
       "1092             10.8          NaN         140.4       NaN      1   \n",
       "1093             11.9          0.7          84.9       8.2      4   \n",
       "1094             10.1          0.0          89.9       5.5      2   \n",
       "1095             11.8          NaN         124.8       NaN      1   \n",
       "\n",
       "      sum_total_count  frequency(%)  \n",
       "0                   5            20  \n",
       "1                   5            20  \n",
       "2                   5            60  \n",
       "3                   5            20  \n",
       "4                   5            20  \n",
       "...               ...           ...  \n",
       "1091               12            33  \n",
       "1092               12             8  \n",
       "1093               12            33  \n",
       "1094               12            17  \n",
       "1095               12             8  \n",
       "\n",
       "[1096 rows x 10 columns]"
      ]
     },
     "execution_count": 6,
     "metadata": {},
     "output_type": "execute_result"
    }
   ],
   "source": [
    "import pandas as pd\n",
    "import numpy as np\n",
    "import requests\n",
    "\n",
    "# retrieve all available structures \n",
    "url = \"https://gpcrdb.org/services/structure/\"\n",
    "response = requests.get(url)\n",
    "data_strucutre = response.json()\n",
    "df_all_structure = pd.DataFrame(data_strucutre)\n",
    "\n",
    "# identifier for protein structure\n",
    "# class == class A & ligands == peptides or proteins\n",
    "class_category = df_all_structure['class'].value_counts() # class_category\n",
    "mask = df_all_structure.loc[:,'class'].str.startswith('Class A') \n",
    "df_ligands_type = df_all_structure['ligands'].apply(lambda x: x[0]['type'] if x else None) # extract the ligand type\n",
    "ligands_type_category = df_ligands_type.value_counts()\n",
    "mask_2 = df_ligands_type.isin([\"peptide\", \"protein\"])\n",
    "df_all_structure = df_all_structure[mask & mask_2]\n",
    "\n",
    "# remove repeated *protein - ligands_name* pair and then keep the best resolution\n",
    "df_ligands_name = df_all_structure['ligands'].apply(lambda x: x[0]['name'] if x else None) # extract the ligand name\n",
    "df_ligands_name = df_ligands_name.rename('ligands_name') \n",
    "\n",
    "# # add ligand name column into the dataframe\n",
    "df_full_structure_with_ligands_name = pd.concat([df_all_structure, df_ligands_name], axis=1)\n",
    "best_resolution_index = df_full_structure_with_ligands_name.groupby(['protein', 'ligands_name'])['resolution'].idxmin()\n",
    "filter_with_identifier = df_all_structure.loc[best_resolution_index]\n",
    "\n",
    "# get the pdb_code that fulfil the condition\n",
    "df_structure = filter_with_identifier\n",
    "pdb_code_list = df_structure[\"pdb_code\"].tolist()\n",
    "\n",
    "# get all the interaction data for each structure complex\n",
    "all_interaction_data = []\n",
    "\n",
    "for code in pdb_code_list:\n",
    "    url = f\"https://jimmy.gpcrdb.org/services/structure/{code}/peptideinteraction/\" # Get a list of interactions between structure and peptide ligand\n",
    "    response = requests.get(url)\n",
    "    if response.status_code == 200:\n",
    "        all_interaction_data.extend(response.json())\n",
    "    else:\n",
    "        print(f\"Failed to fetch data from {url}\")\n",
    "raw_interaction =  pd.DataFrame(all_interaction_data)\n",
    "\n",
    "# keep those equal to sidechain sidechain interaction/Sidenchain Backbone groups\n",
    "df_SS_SB_interaction = raw_interaction[(raw_interaction['structural_interaction'] == 'SS') | (raw_interaction['structural_interaction'] == 'SB')]\n",
    "\n",
    "# remove the wan-der-wons interaction\n",
    "df_SS_SB_interaction_without_van_der_waals = df_SS_SB_interaction[df_SS_SB_interaction[\"interaction_type\"] != \"van-der-waals\"]\n",
    "\n",
    "# removing peptide_amnio_acid =='X'\n",
    "df_SS_SB_interaction_without_van_der_waals = df_SS_SB_interaction_without_van_der_waals[df_SS_SB_interaction_without_van_der_waals[\"peptide_amino_acid\"] != \"X\"]\n",
    "\n",
    "# ignore the interaction type ANDT keep the unique pdb_code-Generic number-peptide AA-receptor AA pair # different pdb_code\n",
    "unique_structure_df_interaction = df_SS_SB_interaction_without_van_der_waals.drop_duplicates(subset=['pdb_code', 'receptor_residue_generic_number', 'receptor_amino_acid', 'peptide_amino_acid'])\n",
    "\n",
    "# filter 1\n",
    "df_interaction = unique_structure_df_interaction.loc[:, [\"receptor_residue_generic_number\",  \"receptor_amino_acid\", \"peptide_amino_acid\", \"ca_distance\", \"ca_cb_angle\"]]\n",
    "\n",
    "# convert the ca_cb_angle and ca_ca_distance column to float unless return NaN                                              \n",
    "df_interaction[\"ca_cb_angle\"] = pd.to_numeric(df_interaction[\"ca_cb_angle\"], errors='coerce') \n",
    "df_interaction[\"ca_distance\"] = pd.to_numeric(df_interaction[\"ca_distance\"], errors='coerce')      \n",
    "\n",
    "# find the rows with NaN value\n",
    "rows_with_nan = df_interaction[df_interaction.isna().any(axis=1)]\n",
    "\n",
    "# remove rows with NaN value(must have ca_distance and ca_cb_angle)\n",
    "df_interaction = df_interaction.dropna(subset=['ca_distance', 'ca_cb_angle'])\n",
    " \n",
    "# sort in order\n",
    "df_interaction = df_interaction.sort_values([\"receptor_residue_generic_number\",\"receptor_amino_acid\"])\n",
    "\n",
    "# obtain median and sd value for each RGN - receptor - AA unqiue pair \n",
    "df1 = df_interaction.groupby(['receptor_residue_generic_number', 'receptor_amino_acid', 'peptide_amino_acid']).agg(\n",
    "    Distance_median =('ca_distance', 'median'),\n",
    "    Distance_sd =('ca_distance', 'std'),\n",
    "    Angle_median =('ca_cb_angle', 'median'),\n",
    "    Angle_sd =('ca_cb_angle', 'std')\n",
    ").reset_index()\n",
    "\n",
    "\n",
    "# # obtain the count column for each RGN - receptor - AA unqiue pair \n",
    "df2 = df_interaction.groupby(['receptor_residue_generic_number', 'receptor_amino_acid', 'peptide_amino_acid']).size().reset_index(name='count')\n",
    "\n",
    "# # combine together\n",
    "df_merged = pd.merge(df1, df2,\n",
    "                     on=['receptor_residue_generic_number', 'receptor_amino_acid', 'peptide_amino_acid'],\n",
    "                     how='left')\n",
    "\n",
    "# # obtain the sum column based on the count column \n",
    "df_merged['sum_total_count'] = df_merged.groupby(['receptor_residue_generic_number', 'receptor_amino_acid'])['count'].transform('sum')\n",
    "df_merged['frequency(%)'] = (df_merged['count'] / df_merged['sum_total_count']) * 100\n",
    "\n",
    "# Restrict decimals\n",
    "# Rounding 'receptor_residue_generic_number' to two decimal places\n",
    "df_merged['Distance_median'] = df_merged['Distance_median'].round(1)\n",
    "df_merged['Distance_sd'] = df_merged['Distance_sd'].round(1)\n",
    "df_merged['Angle_median'] = df_merged['Angle_median'].round(1)\n",
    "df_merged['Angle_sd'] = df_merged['Angle_sd'].round(1)\n",
    "\n",
    "# Rounding 'frequency(%)' to the nearest whole number and converting to integers\n",
    "df_merged['frequency(%)'] = df_merged['frequency(%)'].round().astype(int)\n",
    "\n",
    "reference_GPCR= df_merged.reset_index(drop=True)\n",
    "\n",
    "reference_GPCR"
   ]
  },
  {
   "cell_type": "markdown",
   "id": "77c8f5ae",
   "metadata": {},
   "source": [
    "# Part2: Validation"
   ]
  },
  {
   "cell_type": "code",
   "execution_count": 8,
   "id": "eebb3287",
   "metadata": {},
   "outputs": [],
   "source": [
    "# 2.1 Require functions\n",
    "\n",
    "# amino acids dictionary in Upper letter\n",
    "amino_acids_dict = {\n",
    "        \"ALA\": \"A\", \"ARG\": \"R\", \"ASN\": \"N\", \"ASP\": \"D\", \"CYS\": \"C\", \"GLN\": \"Q\", \"GLU\": \"E\",\n",
    "        \"GLY\": \"G\", \"HIS\": \"H\", \"ILE\": \"I\", \"LEU\": \"L\", \"LYS\": \"K\",\n",
    "        \"MET\": \"M\", \"PHE\": \"F\", \"PRO\": \"P\", \"SER\": \"S\",\n",
    "        \"THR\": \"T\", \"TRP\": \"W\", \"TYR\": \"Y\", \"VAL\": \"V\",\n",
    "        \"X\":\"X\"\n",
    "    }\n",
    "\n",
    "# vector calculation\n",
    "def calculate_vector(row): \n",
    "    # v1:v2 = CA : CB = CA→CB vector\n",
    "    v1 = np.array([row['x_coord_x'], row['y_coord_x'], row['z_coord_x']])\n",
    "    v2 = np.array([row['x_coord_y'], row['y_coord_y'], row['z_coord_y']])\n",
    "\n",
    "    # check nan\n",
    "    if np.isnan(v1).any() or np.isnan(v2).any():\n",
    "        return np.nan\n",
    "    \n",
    "    # v1 → v2\n",
    "    V = v2 - v1\n",
    "\n",
    "    # normalized to unit direction vector\n",
    "    norm_V = np.linalg.norm(V)\n",
    "    if norm_V != 0:\n",
    "        V = V / norm_V\n",
    "    else:\n",
    "        V = None\n",
    "\n",
    "    return V\n",
    "\n",
    "# angle calculation\n",
    "def calculate_angle(row): # based on two vector\n",
    "    # extract the vector\n",
    "    v1 = np.array(row[\"receptor_vector_angle\"]) \n",
    "    v2 = np.array(row[\"ligand_vector_angle\"])\n",
    "    \n",
    "    # calculate the dot product\n",
    "    dot_product = np.dot(v1, v2)\n",
    "\n",
    "    # calculate the magnitude\n",
    "    norm_v1 = np.linalg.norm(v1)\n",
    "    norm_v2 = np.linalg.norm(v2)\n",
    "\n",
    "    # avoid dividing zero\n",
    "    if norm_v1 == 0 or norm_v2 == 0:\n",
    "        return None\n",
    "\n",
    "    # Calculate the angle in radians\n",
    "    cos_radian = dot_product / (norm_v1 * norm_v2)\n",
    "    # limit the radian from 0 to π\n",
    "    radian = np.arccos(np.clip(cos_radian, -1.0 , 1.0)) \n",
    "    # transform to angle degree\n",
    "    angle = np.degrees(radian)\n",
    "\n",
    "    return angle\n",
    "\n",
    "# pre-treatment for the input data\n",
    "def pre_treatment(inference_df, df_protein_residue):\n",
    "    # combine the GRN with the inference_df\n",
    "    merged = pd.merge(inference_df, df_protein_residue,\n",
    "                     on = \"residue_number\",\n",
    "                     how = \"left\" )\n",
    "\n",
    "    # filter out those atom_name == CA/CB and GRN are not None\n",
    "    mask_3 = (merged.loc[:, \"atom_name\"].isin([\"CA\", \"CB\"]) & (merged.loc[:, 'display_generic_number'].notnull()))\n",
    "    merged_df = merged[mask_3]\n",
    "    merged_df = merged_df.sort_values(by='residue_number', ascending=True)\n",
    "\n",
    "    ligand_atoms = inference_df[inference_df[\"chain_id\"] == 'B'].copy()\n",
    "    ligand_atoms = ligand_atoms.loc[ligand_atoms[\"atom_name\"].isin([\"CA\", \"CB\"])]\n",
    "    # all residue turn to Ala\n",
    "    # ligand_atoms.drop([\"residue_name\"], axis = 1 ,inplace= True)\n",
    "\n",
    "    receptor_atoms = merged_df[merged_df[\"chain_id\"].isin(['A', 'R'])] \n",
    "    \n",
    "    # Check if receptor DataFrame is empty\n",
    "    if receptor_atoms.empty:\n",
    "        raise ValueError(\"Error warning! NO online GRN MATCH for this receptor\")\n",
    "    \n",
    "    # filter the CA atom and convert to single letter\n",
    "    receptor_atoms_CA = receptor_atoms[receptor_atoms.loc[:,\"atom_name\"] == \"CA\"].copy()\n",
    "    ligand_atoms_CA = ligand_atoms[ligand_atoms.loc[:,\"atom_name\"] == \"CA\"].copy()\n",
    "\n",
    "    # create the single_letter column \n",
    "    receptor_atoms_CA.loc[:,'receptor_amino_acid'] = receptor_atoms['residue_name'].map(amino_acids_dict)\n",
    "    receptor_atoms_CA.drop([\"residue_name\",\"chain_id\",\"residue_number\",\"atom_name\"], axis = 1, inplace = True)\n",
    "\n",
    "    # keep the residue number for ligand\n",
    "    ligand_atoms_CA.drop([\"chain_id\",\"atom_name\"], axis = 1, inplace = True)\n",
    "\n",
    "    return ligand_atoms ,receptor_atoms ,receptor_atoms_CA , ligand_atoms_CA, merged\n",
    "\n",
    "# calculate the Ca-Ca dist\n",
    "def calculate_CaCa_distance(receptor_atoms_CA, ligand_atoms_CA):\n",
    "    # CA-CA distance\n",
    "    # distance = np.sqrt((x1 - x0)**2 + (y1 - y0)**2 + (z1 - z0)**2)\n",
    "    receptor_atoms_CA['key'] = 1\n",
    "    ligand_atoms_CA['key'] = 1\n",
    "    cross_joined_merged = pd.merge(receptor_atoms_CA, ligand_atoms_CA, on='key').drop('key', axis=1)\n",
    "\n",
    "    cross_joined_merged['Distance'] = np.sqrt(\n",
    "        (cross_joined_merged['x_coord_x'] - cross_joined_merged['x_coord_y']) ** 2 +\n",
    "        (cross_joined_merged['y_coord_x'] - cross_joined_merged['y_coord_y']) ** 2 +\n",
    "        (cross_joined_merged['z_coord_x'] - cross_joined_merged['z_coord_y']) ** 2\n",
    "    )\n",
    "    cross_joined_merged = cross_joined_merged.rename(columns={\"display_generic_number\": \"receptor_residue_generic_number\"})\n",
    "\n",
    "    Ca_Ca_distance = cross_joined_merged[[\"receptor_residue_generic_number\", \"residue_number\",\"receptor_amino_acid\",\"Distance\"]]\n",
    "    return Ca_Ca_distance\n",
    "\n",
    "# calculate the nominally existing Cb atom coordinates for GLY residue\n",
    "from math import *\n",
    "class Vector(tuple):\n",
    "    \"\"\"Tuple subclass implementing basic 3D vectors\"\"\"\n",
    "\n",
    "    def __new__(cls, x, y, z):\n",
    "        return tuple.__new__(cls, (float(x), float(y), float(z)))\n",
    "\n",
    "    def perp(self, other):\n",
    "        \"\"\"Part perpendicular to other vector\"\"\"\n",
    "        dp = self[0]*other[0] + self[1]*other[1] + self[2]*other[2]\n",
    "        return Vector(self[0] - dp*other[0],\n",
    "                      self[1] - dp*other[1],\n",
    "                      self[2] - dp*other[2])\n",
    "\n",
    "    @property\n",
    "    def unit(self):\n",
    "        \"\"\"Scaled to unit length\"\"\"\n",
    "        n = sqrt(self[0]*self[0] + self[1]*self[1] + self[2]*self[2])\n",
    "        return Vector(self[0]/n, self[1]/n, self[2]/n)\n",
    "\n",
    "    @property\n",
    "    def norm(self):\n",
    "        \"\"\"Euclidean length\"\"\"\n",
    "        return sqrt(self[0]*self[0] + self[1]*self[1] + self[2]*self[2])\n",
    "\n",
    "    @property\n",
    "    def normsqr(self):\n",
    "        \"\"\"Euclidean length squared\"\"\"\n",
    "        return self[0]*self[0] + self[1]*self[1] + self[2]*self[2]\n",
    "\n",
    "    @property\n",
    "    def x(self):\n",
    "        \"\"\"Vector x coordinate\"\"\"\n",
    "        return self[0]\n",
    "\n",
    "    @property\n",
    "    def y(self):\n",
    "        \"\"\"Vector y coordinate\"\"\"\n",
    "        return self[1]\n",
    "\n",
    "    @property\n",
    "    def z(self):\n",
    "        \"\"\"Vector z coordinate\"\"\"\n",
    "        return self[2]\n",
    "\n",
    "    def __bool__(self):\n",
    "        \"\"\"Nonzero vector\"\"\"\n",
    "        return (self[0]*self[0] + self[1]*self[1] + self[2]*self[2] > 0)\n",
    "\n",
    "    def __abs__(self):\n",
    "        \"\"\"abs(a): Euclidean length of vector a\"\"\"\n",
    "        return sqrt(self[0]*self[0] + self[1]*self[1] + self[2]*self[2])\n",
    "\n",
    "    def __add__(self, other):\n",
    "        \"\"\"a + b: Vector addition\"\"\"\n",
    "        if isinstance(other, (tuple, list)) and len(other) >= 3:\n",
    "            return Vector(self[0]+other[0], self[1]+other[1], self[2]+other[2])\n",
    "        else:\n",
    "            return NotImplemented\n",
    "\n",
    "    def __radd__(self, other):\n",
    "        \"\"\"b + a: Vector addition\"\"\"\n",
    "        if isinstance(other, (tuple, list)) and len(other) >= 3:\n",
    "            return Vector(other[0]+self[0], other[1]+self[1], other[2]+self[2])\n",
    "        else:\n",
    "            return NotImplemented\n",
    "\n",
    "    def __mul__(self, other):\n",
    "        \"\"\"a * b: Scalar multiplication\"\"\"\n",
    "        if isinstance(other, (int, float)):\n",
    "            return Vector(self[0]*other, self[1]*other, self[2]*other)\n",
    "        else:\n",
    "            return NotImplemented\n",
    "\n",
    "    def __rmul__(self, other):\n",
    "        \"\"\"b * a: Scalar multiplication\"\"\"\n",
    "        if isinstance(other, (int, float)):\n",
    "            return Vector(other*self[0], other*self[1], other*self[2])\n",
    "        else:\n",
    "            return NotImplemented\n",
    "\n",
    "    def __neg__(self):\n",
    "        \"\"\"-a: Negation\"\"\"\n",
    "        return Vector(-self[0], -self[1], -self[2])\n",
    "\n",
    "    def __or__(self, other):\n",
    "        \"\"\"a | b: Dot product\"\"\"\n",
    "        if isinstance(other, (tuple, list)) and len(other) >= 3:\n",
    "            return self[0]*other[0] + self[1]*other[1] + self[2]*other[2]\n",
    "        else:\n",
    "            return NotImplemented\n",
    "\n",
    "    def __ror__(self, other):\n",
    "        \"\"\"b | a: Dot product\"\"\"\n",
    "        if isinstance(other, (tuple, list)) and len(other) >= 3:\n",
    "            return other[0]*self[0] + other[1]*self[1] + other[2]*self[2]\n",
    "        else:\n",
    "            return NotImplemented\n",
    "\n",
    "    def __sub__(self, other):\n",
    "        \"\"\"a - b: Vector subtraction\"\"\"\n",
    "        if isinstance(other, (tuple, list)) and len(other) >= 3:\n",
    "            return Vector(self[0]-other[0], self[1]-other[1], self[2]-other[2])\n",
    "        else:\n",
    "            return NotImplemented\n",
    "\n",
    "    def __rsub__(self, other):\n",
    "        \"\"\"b - a: Vector subtraction\"\"\"\n",
    "        if isinstance(other, (tuple, list)) and len(other) >= 3:\n",
    "            return Vector(other[0]-self[0], other[1]-self[1], other[2]-self[2])\n",
    "        else:\n",
    "            return NotImplemented\n",
    "\n",
    "    def __truediv__(self, other):\n",
    "        \"\"\"a / b: Scalar division\"\"\"\n",
    "        if isinstance(other, (int, float)):\n",
    "            return Vector(self[0]/other, self[1]/other, self[2]/other)\n",
    "        else:\n",
    "            return NotImplemented\n",
    "\n",
    "    def __xor__(self, other):\n",
    "        \"\"\"a ^ b: Vector cross product\"\"\"\n",
    "        if isinstance(other, (tuple, list)) and len(other) >= 3:\n",
    "            return Vector(self[1]*other[2] - self[2]*other[1],\n",
    "                          self[2]*other[0] - self[0]*other[2],\n",
    "                          self[0]*other[1] - self[1]*other[0])\n",
    "        else:\n",
    "            return NotImplemented\n",
    "\n",
    "    def __rxor__(self, other):\n",
    "        \"\"\"b ^ a: Vector cross product\"\"\"\n",
    "        if isinstance(other, (tuple, list)) and len(other) >= 3:\n",
    "            return Vector(other[1]*self[2] - other[2]*self[1],\n",
    "                          other[2]*self[0] - other[0]*self[2],\n",
    "                          other[0]*self[1] - other[1]*self[0])\n",
    "        else:\n",
    "            return NotImplemented\n",
    "\n",
    "def find_fourth_vertex(row, distance1=2.45, distance2=1.53, distance3=2.50):\n",
    "    # Use Vector type for the vertices\n",
    "    p1 = Vector(row['x_coord_N'], row['y_coord_N'], row['z_coord_N'])\n",
    "    p2 = Vector(row['x_coord_x'], row['y_coord_x'], row['z_coord_x']) # corresponds to the later step\n",
    "    p3 = Vector(row['x_coord_C'], row['y_coord_C'], row['z_coord_C'])\n",
    "\n",
    "    # Use float type for the distances\n",
    "    r1 = float(distance1)\n",
    "    r2 = float(distance2)\n",
    "    r3 = float(distance3)\n",
    "\n",
    "    u_axis = (p2 - p1).unit\n",
    "    v_axis = (p3 - p1).perp(u_axis).unit\n",
    "    w_axis = u_axis ^ v_axis\n",
    "\n",
    "    u2 = (p2 - p1) | u_axis\n",
    "    u3 = (p3 - p1) | u_axis\n",
    "    v3 = (p3 - p1) | v_axis\n",
    "\n",
    "    u = (r1*r1 - r2*r2 + u2*u2) / (2*u2)\n",
    "    v = (r1*r1 - r3*r3 + u3*u3 + v3*v3 - 2*u*u3) / (2*v3)\n",
    "    w = sqrt(r1*r1 - u*u - v*v)\n",
    "    \n",
    "    return p1 + u*u_axis + v*v_axis - w*w_axis\n",
    "            # there is two correct mathematical solutions to the general problem but in our case only the second solution is correct - taking into account the constraints\n",
    "            #(p1 + u*u_axis + v*v_axis + w*w_axis,\n",
    "            #p1 + u*u_axis + v*v_axis - w*w_axis)\n",
    "            \n",
    "# calculate the Ca-Cb angle\n",
    "def calculate_CaCb_angle(ligand_atoms,receptor_atoms, merged):\n",
    "    \n",
    "    # for CA → CB vector in receptor\n",
    "    # convert to single letter \n",
    "    receptor_atoms_CACB = receptor_atoms[receptor_atoms.loc[:,\"atom_name\"].isin([\"CA\",\"CB\"])].copy()\n",
    "    receptor_atoms_CACB.loc[:,'receptor_amino_acid'] = receptor_atoms['residue_name'].map(amino_acids_dict)\n",
    "    receptor_atoms_CACB.drop([\"residue_name\",\"chain_id\",\"residue_number\"], axis = 1, inplace = True)\n",
    "    \n",
    "    # for CA → CB vector in ligand\n",
    "    ligand_atoms_CACB =  ligand_atoms[ligand_atoms.loc[:,\"atom_name\"].isin([\"CA\",\"CB\"])].copy()\n",
    "    ligand_atoms_CACB.drop([\"chain_id\"], axis = 1, inplace = True)\n",
    "    ligand_CA = ligand_atoms_CACB[ligand_atoms_CACB[\"atom_name\"] == \"CA\"]\n",
    "    ligand_CB = ligand_atoms_CACB[ligand_atoms_CACB[\"atom_name\"] == \"CB\"]\n",
    "\n",
    "    ligand_atoms_CA_CB = pd.merge(ligand_CA, ligand_CB,\n",
    "            on =\"residue_number\",\n",
    "            how = \"left\")\n",
    "    \n",
    "    # calculate the vector in ligand\n",
    "    # ligand_vector_angle → the CACB vector in ligand!! \n",
    "    ligand_atoms_CA_CB['ligand_vector_angle'] = ligand_atoms_CA_CB.apply(calculate_vector , axis = 1)\n",
    "    ligand_residue_CA_CB = ligand_atoms_CA_CB[[\"residue_number\", \"ligand_vector_angle\"]].copy()\n",
    "         \n",
    "    # Check if GLY in ligand\n",
    "    if ligand_residue_CA_CB.isna().any(axis=1).any():\n",
    "        print(\"Warning! GLY found in LIGAND sequence\\n\")    \n",
    "\n",
    "    # calculate the vector in receptor\n",
    "    receptor_CA = receptor_atoms_CACB[receptor_atoms_CACB[\"atom_name\"] == \"CA\"]\n",
    "    receptor_CB = receptor_atoms_CACB[receptor_atoms_CACB[\"atom_name\"] == \"CB\"]\n",
    "\n",
    "    receptor_atoms_CA_CB = pd.merge(receptor_CA, receptor_CB,\n",
    "            on =\"display_generic_number\",\n",
    "            how = \"left\")\n",
    "\n",
    "    receptor_atoms_CA_CB['receptor_vector_angle'] = receptor_atoms_CA_CB.apply(calculate_vector , axis = 1)\n",
    "    receptor_residue_CA_CB = receptor_atoms_CA_CB[[\"display_generic_number\", \"receptor_amino_acid_x\", \"receptor_vector_angle\"]].copy()\n",
    "    receptor_residue_CA_CB = receptor_residue_CA_CB.rename(columns={\n",
    "        receptor_residue_CA_CB.columns[0]: \"receptor_residue_generic_number\",\n",
    "        receptor_residue_CA_CB.columns[1]: \"receptor_amino_acid\"\n",
    "    })\n",
    "    receptor_residue_CA_CB.rename(columns={'receptor_amino_acid_x': 'receptor_amino_acid'}, inplace=True)\n",
    "\n",
    "    # Check if GLY in RECEPTOR\n",
    "    if receptor_residue_CA_CB.isna().any(axis=1).any():\n",
    "        print(\"Warning! GLY found in RECEPTOR sequence\\n\")    \n",
    "    \n",
    "    # below deal with situations when Gly exist and calculate the Ca-Cb angle\n",
    "    merged[\"residue_name\"] = merged[\"residue_name\"].map(amino_acids_dict)\n",
    "    #  Filter rows in ligand/receptor\n",
    "    ne = merged[merged[\"chain_id\"].isin(['A', 'B', 'R'])]\n",
    "    # Filter for GLY residues with 'N' and 'C' atoms and select relevant columns\n",
    "    ne_N = ne[(ne[\"residue_name\"] == \"G\") & (ne[\"atom_name\"] == \"N\")].loc[:, [\"atom_name\", \"chain_id\",\"residue_number\", \"x_coord\", \"y_coord\", \"z_coord\", \"display_generic_number\"]]\n",
    "    ne_C = ne[(ne[\"residue_name\"] == \"G\") & (ne[\"atom_name\"] == \"C\")].loc[:, [\"atom_name\", \"chain_id\",\"residue_number\", \"x_coord\", \"y_coord\", \"z_coord\", \"display_generic_number\"]]\n",
    "    \n",
    "    #  Merge the data frames for N and C atoms\n",
    "    merged_ne_NC = pd.merge(ne_N, ne_C, on=[\"display_generic_number\",\"chain_id\", \"residue_number\"], how=\"left\", suffixes=('_N', '_C'))\n",
    "\n",
    "    CA_gly = merged[(merged[\"atom_name\"] == \"CA\") & (merged[\"residue_name\"] == \"G\")].copy()\n",
    "    CA_gly.rename(columns={'x_coord': 'x_coord_x', 'y_coord': 'y_coord_x', 'z_coord': 'z_coord_x'}, inplace=True)\n",
    "    \n",
    "    # Calculate the coordinates of CB using the coordinates of C, CA, and N atoms\n",
    "    merged_ne_final = pd.merge(CA_gly, merged_ne_NC, on=[\"display_generic_number\",\"chain_id\" ,\"residue_number\"], how=\"left\")\n",
    "    merged_ne_final[\"receptor_coordinates_CB\"] = merged_ne_final.apply(find_fourth_vertex, axis=1)\n",
    "    \n",
    "    CB_gly = merged_ne_final.loc[:, [\"display_generic_number\", \"chain_id\", \"residue_number\", \"residue_name\", \"receptor_coordinates_CB\"]]\n",
    "    CB_gly[\"atom_name\"] = \"CB\"\n",
    "    CB_gly[['x_coord_y', 'y_coord_y', 'z_coord_y']] = pd.DataFrame(CB_gly['receptor_coordinates_CB'].tolist(), index = CB_gly.index)\n",
    "    CB_gly = CB_gly.drop('receptor_coordinates_CB', axis=1)\n",
    "    \n",
    "    all_CA = ne[(ne[\"chain_id\"].isin([\"A\", \"R\", \"B\"])) & (ne[\"atom_name\"] == \"CA\") & (ne[\"residue_name\"] == \"G\") ]\n",
    "    all_CA = all_CA[~((all_CA['chain_id'].isin(['A', 'R'])) & (all_CA['display_generic_number'].isnull()))]\n",
    "    \n",
    "    # integrate the coordinates of CA and CB atoms of GLY and calculate the CA-CB vector\n",
    "    CA_CB_gly = pd.merge(all_CA, CB_gly, on=[\"chain_id\", \"residue_number\" ,\"display_generic_number\"], how=\"left\")\n",
    "    CA_CB_gly.rename(columns={'x_coord': 'x_coord_x', 'y_coord': 'y_coord_x', 'z_coord': 'z_coord_x'}, inplace=True)\n",
    "    CA_CB_gly['CA_CB_vector'] = CA_CB_gly.apply(calculate_vector, axis = 1)\n",
    "    CA_CB_gly['amino_acid'] = \"G\"\n",
    "    CA_CB_GLY = CA_CB_gly[[\"chain_id\",\"display_generic_number\", \"residue_number\",\"CA_CB_vector\",\"amino_acid\"]].copy()\n",
    "    \n",
    "    #  the CA-CB vector of the receptor's GLY residue   \n",
    "    CA_CB_GLY_receptor = CA_CB_GLY[(CA_CB_GLY[\"chain_id\"] == \"A\") | (CA_CB_GLY[\"chain_id\"] == \"R\")].copy()\n",
    "    CA_CB_GLY_receptor.rename(columns={'display_generic_number': 'receptor_residue_generic_number', 'amino_acid': 'receptor_amino_acid','CA_CB_vector':'receptor_vector_angle'}, inplace=True)\n",
    "    CA_CB_GLY_receptor = CA_CB_GLY_receptor.drop([\"chain_id\", \"residue_number\"], axis=1)\n",
    "    CaCb_vector_receptor = pd.concat([receptor_residue_CA_CB, CA_CB_GLY_receptor]).dropna().reset_index(drop=True)\n",
    "    \n",
    "    # the CA-CB vector of the ligand's GLY residue   \n",
    "    CA_CB_GLY_ligand = CA_CB_GLY[(CA_CB_GLY[\"chain_id\"] == \"B\")].copy()\n",
    "    CA_CB_GLY_ligand.rename(columns={ 'amino_acid': 'receptor_amino_acid','CA_CB_vector':'ligand_vector_angle'}, inplace=True)\n",
    "    CA_CB_GLY_ligand = CA_CB_GLY_ligand.drop([\"chain_id\", \"display_generic_number\",\"receptor_amino_acid\"], axis=1)\n",
    "    CaCb_vector_ligand = pd.concat([ligand_residue_CA_CB, CA_CB_GLY_ligand]).dropna().reset_index(drop=True)\n",
    "    \n",
    "    # CA_CB & CA_CB angle\n",
    "    CaCb_vector_ligand['key'] = 1\n",
    "    CaCb_vector_receptor['key'] = 1\n",
    "    angle_CA_CB = pd.merge(CaCb_vector_receptor, CaCb_vector_ligand, on='key').drop('key', axis=1).copy()\n",
    "    angle_CA_CB['Angle'] = angle_CA_CB.apply(calculate_angle, axis=1)\n",
    "    angle_CA_CB.drop([\"receptor_vector_angle\",\"ligand_vector_angle\"], axis = 1 ,inplace= True)\n",
    "    \n",
    "    return angle_CA_CB\n",
    "\n",
    "# calculate the Toptwofrequency residue for each backbone\n",
    "def prediction_ligands(Ca_Ca_distance, angle, reference_GPCR):\n",
    "    # combine backbone result and angle result\n",
    "    inference_backbone = pd.merge(Ca_Ca_distance, angle, \n",
    "                                  on=[\"receptor_residue_generic_number\", \"residue_number\", \"receptor_amino_acid\"],\n",
    "                                  how=\"left\")\n",
    "    \n",
    "    # For each inference backbone residue, attempt to place each of the 20 natural amino acids in that position\n",
    "    amino_acids = ['A', 'R', 'N', 'D', 'C', 'Q', 'E', 'G', 'H', 'I', 'L', 'K', 'M', 'F', 'P', 'S', 'T', 'W', 'Y', 'V']\n",
    "    AA = pd.DataFrame(amino_acids, columns=['peptide_amino_acid'])\n",
    "    inference_backbone[\"key\"] = 1\n",
    "    AA[\"key\"] = 1\n",
    "    peptide_residue_scores = pd.merge(inference_backbone, AA, on='key').drop('key', axis=1)\n",
    "\n",
    "    final_df = pd.merge(peptide_residue_scores, reference_GPCR,\n",
    "                        on=[\"receptor_residue_generic_number\", \"receptor_amino_acid\", \"peptide_amino_acid\"],\n",
    "                        how=\"left\")\n",
    "\n",
    "    # generate the score list table\n",
    "    score_list = final_df[final_df['Distance_median'].notnull() & final_df['Angle_median'].notnull()] \n",
    "    \n",
    "    # peptide_AA that fulfill the requirements for distance and angle\n",
    "    peptide_AA_score = score_list.query('(Distance >= Distance_median - Distance_sd) & (Distance <= Distance_median + Distance_sd) & (Angle >= Angle_median - Angle_sd) & (Angle <= Angle_median + Angle_sd)')\n",
    "\n",
    "    # add the frequencey and count together when RGN - residue_number - peptide_amnio_acid the same\n",
    "    peptide_AA_score = peptide_AA_score.groupby(['residue_number', 'peptide_amino_acid']).agg(\n",
    "        {\n",
    "            'frequency(%)': 'sum',\n",
    "            'count': 'sum'\n",
    "        }\n",
    "    ).reset_index()\n",
    "    \n",
    "    final_score = peptide_AA_score[[\"residue_number\", \"peptide_amino_acid\", \"frequency(%)\", \"count\"]].sort_values([\"residue_number\", \"frequency(%)\"], ascending = [True,False])\n",
    "    \n",
    "    def select_top_two(group):\n",
    "        top_by_freq = group.nlargest(2, 'frequency(%)', keep='all')\n",
    "        if len(top_by_freq) > 2:\n",
    "            top_by_freq = top_by_freq.sort_values(by=['frequency(%)', 'count'], ascending=[False, False]).head(2)\n",
    "        return top_by_freq\n",
    "\n",
    "    toptwofreqAA = final_score.groupby(\"residue_number\").apply(select_top_two).reset_index(drop=True)\n",
    "\n",
    "    return toptwofreqAA\n",
    "\n",
    "# generate predicted sequences based on Toptwofrequency\n",
    "def generate_permutations(toptwofreqAA, backbone, group):\n",
    "    starting_backbone_residue_number = min(group)\n",
    "    ending_backbone_residue_number = max(group)\n",
    "    \n",
    "    # check for missing positions and add '.' for missing residues\n",
    "    for i in range(starting_backbone_residue_number, ending_backbone_residue_number + 1):  \n",
    "        if i not in toptwofreqAA['residue_number'].values:\n",
    "            new_row = {'residue_number': i, 'peptide_amino_acid': '.', 'frequency(%)': 0, 'count': 0}\n",
    "            toptwofreqAA = toptwofreqAA.append(new_row, ignore_index=True)\n",
    "\n",
    "    # sort the DataFrame by residue_number and frequency\n",
    "    toptwofreqAA = toptwofreqAA.sort_values([\"residue_number\", \"frequency(%)\"], ascending = [True,False]).copy()\n",
    "    \n",
    "    # filter residue number fulfill the group number\n",
    "    toptwofreqAA = toptwofreqAA[(toptwofreqAA['residue_number'] >= starting_backbone_residue_number) & (toptwofreqAA['residue_number'] <= ending_backbone_residue_number)]\n",
    "    \n",
    "    # group by 'residue_number' to get peptide_amino_acid and corresponding frequencies/count\n",
    "    grouped = toptwofreqAA.groupby('residue_number')\n",
    "    position_data = {residue_number: group[['peptide_amino_acid', 'frequency(%)','count']].values.tolist() for residue_number, group in grouped}\n",
    "    start_key = min(position_data.keys())\n",
    "\n",
    "    # Step 1: generate unique combinations\n",
    "    base_combination_chars = [chars[0][0] for chars in position_data.values()]\n",
    "    unique_combinations = []\n",
    "\n",
    "    for position, base_char in enumerate(base_combination_chars):\n",
    "        current_combination = base_combination_chars.copy()\n",
    "        if len(position_data[start_key + position]) > 1:\n",
    "            current_combination[position] = position_data[start_key + position][1][0]\n",
    "        combination_str = ''.join(current_combination)\n",
    "        if combination_str not in unique_combinations:\n",
    "            unique_combinations.append(combination_str)\n",
    "\n",
    "    # Step 2: retrieve frequency for every position in unique combination\n",
    "    def get_scores_for_combination(combination_str):\n",
    "        char_scores = []\n",
    "        for index, char in enumerate(combination_str):\n",
    "            for char_info in position_data[start_key + index]:\n",
    "                if char_info[0] == char:\n",
    "                    char_scores.append(char_info[1])\n",
    "                    break\n",
    "        return char_scores\n",
    "\n",
    "    scores_for_each_combination = {combination: get_scores_for_combination(combination) for combination in unique_combinations}\n",
    "\n",
    "    # Step 3: calculate exact count sum for each combination\n",
    "    integrated_results = []\n",
    "\n",
    "    for combination, scores in scores_for_each_combination.items():\n",
    "        exact_score_sum = sum(position_data[start_key + i][0][2] if position_data[start_key + i][0][0] == char else position_data[start_key + i][1][2] for i, char in enumerate(combination))\n",
    "        integrated_results.append((combination, scores, exact_score_sum))\n",
    "\n",
    "    result_df = pd.DataFrame(integrated_results, columns=['sequence', 'frequency_by_position','sum_count']) \n",
    "\n",
    "    # obtain the corresponding postion for the peptide backbone\n",
    "    residue_num = list(range(starting_backbone_residue_number, ending_backbone_residue_number + 1))\n",
    "\n",
    "    # convert the result to a dataFrame and rearrange columns\n",
    "    result_df[\"residue_num\"] = [residue_num] * len(result_df)\n",
    "    result_df[\"struct_info\"] = backbone\n",
    "\n",
    "    # rearrangment\n",
    "    col = result_df.pop('struct_info')\n",
    "    result_df.insert(loc=0, column='struct_info', value=col)\n",
    "    col_2 = result_df.pop('residue_num')\n",
    "    result_df.insert(loc=1, column='residue_num', value=col_2)\n",
    "\n",
    "    result_df[\"sum_frequency\"] = result_df['frequency_by_position'].apply(sum)\n",
    "\n",
    "    result_df = result_df.sort_values(\"sum_frequency\", ascending=False).reset_index(drop=True)\n",
    "    \n",
    "    return result_df\n",
    "\n",
    "# collect all possibile results for groups from one backbone\n",
    "def merge_permutation_results(groups, toptwofreqAA, backbone):\n",
    "    result_dfs = []  # list for storing the results of each group\n",
    "\n",
    "    for group in groups:\n",
    "        filtered_toptwofreqAA = toptwofreqAA.loc[toptwofreqAA['residue_number'].isin(group)].copy()      \n",
    "        result_df = generate_permutations(filtered_toptwofreqAA, backbone, group)\n",
    "        result_dfs.append(result_df)\n",
    "    \n",
    "    merged_df = pd.concat(result_dfs, axis=0).reset_index(drop=True)\n",
    "    \n",
    "    return merged_df\n",
    "\n",
    "# find all groups from interaction information from one backbone\n",
    "def find_interaction_part(s, min_length = 5):\n",
    "    sequences = []  \n",
    "    if not len(s): \n",
    "        print(\"No consecutive sequence found because the input array is empty.\")\n",
    "        return sequences  # Return an empty list\n",
    "\n",
    "    current_sequence = [s[0]]  \n",
    "\n",
    "    for i in range(1, len(s)):\n",
    "        if s[i] == current_sequence[-1] + 1:\n",
    "            current_sequence.append(s[i])  \n",
    "        else:\n",
    "            if len(current_sequence) >= min_length:\n",
    "                sequences.append(current_sequence)  \n",
    "            current_sequence = [s[i]] \n",
    "            \n",
    "    if len(current_sequence) >= min_length:\n",
    "        sequences.append(current_sequence)\n",
    "\n",
    "    return sequences\n"
   ]
  },
  {
   "cell_type": "code",
   "execution_count": 9,
   "id": "87de6f4f",
   "metadata": {},
   "outputs": [
    {
     "name": "stderr",
     "output_type": "stream",
     "text": [
      "Processing files:   0%|                                                                        | 0/210 [00:00<?, ?it/s]"
     ]
    },
    {
     "name": "stdout",
     "output_type": "stream",
     "text": [
      "Warning! GLY found in RECEPTOR sequence\n",
      "\n"
     ]
    },
    {
     "name": "stderr",
     "output_type": "stream",
     "text": [
      "Processing files:   0%|▎                                                               | 1/210 [00:02<09:12,  2.64s/it]"
     ]
    },
    {
     "name": "stdout",
     "output_type": "stream",
     "text": [
      "Warning! GLY found in RECEPTOR sequence\n",
      "\n"
     ]
    },
    {
     "name": "stderr",
     "output_type": "stream",
     "text": [
      "Processing files:   1%|▌                                                               | 2/210 [00:05<09:06,  2.63s/it]"
     ]
    },
    {
     "name": "stdout",
     "output_type": "stream",
     "text": [
      "Warning! GLY found in RECEPTOR sequence\n",
      "\n"
     ]
    },
    {
     "name": "stderr",
     "output_type": "stream",
     "text": [
      "Processing files:   1%|▉                                                               | 3/210 [00:07<08:47,  2.55s/it]"
     ]
    },
    {
     "name": "stdout",
     "output_type": "stream",
     "text": [
      "Warning! GLY found in RECEPTOR sequence\n",
      "\n"
     ]
    },
    {
     "name": "stderr",
     "output_type": "stream",
     "text": [
      "Processing files:   2%|█▌                                                              | 5/210 [00:10<06:10,  1.81s/it]"
     ]
    },
    {
     "name": "stdout",
     "output_type": "stream",
     "text": [
      "Error occurred while finding groups for ackr3_human_7SK7, 7SK7: No consecutive sequences meeting the criteria were found\n"
     ]
    },
    {
     "name": "stderr",
     "output_type": "stream",
     "text": [
      "Processing files:   3%|█▊                                                              | 6/210 [00:11<04:50,  1.43s/it]"
     ]
    },
    {
     "name": "stdout",
     "output_type": "stream",
     "text": [
      "Error occurred while finding groups for ackr3_human_7SK8, 7SK8: No consecutive sequences meeting the criteria were found\n",
      "Warning! GLY found in LIGAND sequence\n",
      "\n",
      "Warning! GLY found in RECEPTOR sequence\n",
      "\n"
     ]
    },
    {
     "name": "stderr",
     "output_type": "stream",
     "text": [
      "Processing files:   3%|██▏                                                             | 7/210 [00:13<05:42,  1.69s/it]"
     ]
    },
    {
     "name": "stdout",
     "output_type": "stream",
     "text": [
      "Warning! GLY found in LIGAND sequence\n",
      "\n",
      "Warning! GLY found in RECEPTOR sequence\n",
      "\n"
     ]
    },
    {
     "name": "stderr",
     "output_type": "stream",
     "text": [
      "Processing files:   4%|██▍                                                             | 8/210 [00:14<05:15,  1.56s/it]"
     ]
    },
    {
     "name": "stdout",
     "output_type": "stream",
     "text": [
      "Warning! GLY found in LIGAND sequence\n",
      "\n",
      "Warning! GLY found in RECEPTOR sequence\n",
      "\n"
     ]
    },
    {
     "name": "stderr",
     "output_type": "stream",
     "text": [
      "Processing files:   4%|██▋                                                             | 9/210 [00:15<04:28,  1.34s/it]"
     ]
    },
    {
     "name": "stdout",
     "output_type": "stream",
     "text": [
      "Warning! GLY found in RECEPTOR sequence\n",
      "\n"
     ]
    },
    {
     "name": "stderr",
     "output_type": "stream",
     "text": [
      "Processing files:   5%|███                                                            | 10/210 [00:16<03:59,  1.20s/it]"
     ]
    },
    {
     "name": "stdout",
     "output_type": "stream",
     "text": [
      "Warning! GLY found in LIGAND sequence\n",
      "\n",
      "Warning! GLY found in RECEPTOR sequence\n",
      "\n"
     ]
    },
    {
     "name": "stderr",
     "output_type": "stream",
     "text": [
      "Processing files:   5%|███▎                                                           | 11/210 [00:17<03:42,  1.12s/it]"
     ]
    },
    {
     "name": "stdout",
     "output_type": "stream",
     "text": [
      "Warning! GLY found in LIGAND sequence\n",
      "\n",
      "Warning! GLY found in RECEPTOR sequence\n",
      "\n"
     ]
    },
    {
     "name": "stderr",
     "output_type": "stream",
     "text": [
      "Processing files:   6%|███▌                                                           | 12/210 [00:18<03:38,  1.10s/it]"
     ]
    },
    {
     "name": "stdout",
     "output_type": "stream",
     "text": [
      "Warning! GLY found in LIGAND sequence\n",
      "\n",
      "Warning! GLY found in RECEPTOR sequence\n",
      "\n"
     ]
    },
    {
     "name": "stderr",
     "output_type": "stream",
     "text": [
      "Processing files:   6%|███▉                                                           | 13/210 [00:19<03:29,  1.06s/it]"
     ]
    },
    {
     "name": "stdout",
     "output_type": "stream",
     "text": [
      "Warning! GLY found in LIGAND sequence\n",
      "\n",
      "Warning! GLY found in RECEPTOR sequence\n",
      "\n"
     ]
    },
    {
     "name": "stderr",
     "output_type": "stream",
     "text": [
      "Processing files:   7%|████▏                                                          | 14/210 [00:20<03:26,  1.06s/it]"
     ]
    },
    {
     "name": "stdout",
     "output_type": "stream",
     "text": [
      "Warning! GLY found in RECEPTOR sequence\n",
      "\n"
     ]
    },
    {
     "name": "stderr",
     "output_type": "stream",
     "text": [
      "Processing files:   7%|████▌                                                          | 15/210 [00:21<03:17,  1.02s/it]"
     ]
    },
    {
     "name": "stdout",
     "output_type": "stream",
     "text": [
      "Warning! GLY found in LIGAND sequence\n",
      "\n",
      "Warning! GLY found in RECEPTOR sequence\n",
      "\n"
     ]
    },
    {
     "name": "stderr",
     "output_type": "stream",
     "text": [
      "Processing files:   8%|████▊                                                          | 16/210 [00:22<03:11,  1.01it/s]"
     ]
    },
    {
     "name": "stdout",
     "output_type": "stream",
     "text": [
      "Warning! GLY found in RECEPTOR sequence\n",
      "\n"
     ]
    },
    {
     "name": "stderr",
     "output_type": "stream",
     "text": [
      "Processing files:   8%|█████                                                          | 17/210 [00:23<03:31,  1.10s/it]"
     ]
    },
    {
     "name": "stdout",
     "output_type": "stream",
     "text": [
      "Warning! GLY found in LIGAND sequence\n",
      "\n",
      "Warning! GLY found in RECEPTOR sequence\n",
      "\n"
     ]
    },
    {
     "name": "stderr",
     "output_type": "stream",
     "text": [
      "Processing files:   9%|█████▍                                                         | 18/210 [00:28<06:35,  2.06s/it]"
     ]
    },
    {
     "name": "stdout",
     "output_type": "stream",
     "text": [
      "Warning! GLY found in RECEPTOR sequence\n",
      "\n"
     ]
    },
    {
     "name": "stderr",
     "output_type": "stream",
     "text": [
      "Processing files:   9%|█████▋                                                         | 19/210 [00:29<05:42,  1.79s/it]"
     ]
    },
    {
     "name": "stdout",
     "output_type": "stream",
     "text": [
      "Warning! GLY found in RECEPTOR sequence\n",
      "\n"
     ]
    },
    {
     "name": "stderr",
     "output_type": "stream",
     "text": [
      "Processing files:  10%|██████                                                         | 20/210 [00:30<05:07,  1.62s/it]"
     ]
    },
    {
     "name": "stdout",
     "output_type": "stream",
     "text": [
      "Warning! GLY found in RECEPTOR sequence\n",
      "\n"
     ]
    },
    {
     "name": "stderr",
     "output_type": "stream",
     "text": [
      "Processing files:  10%|██████▎                                                        | 21/210 [00:31<04:47,  1.52s/it]"
     ]
    },
    {
     "name": "stdout",
     "output_type": "stream",
     "text": [
      "Warning! GLY found in LIGAND sequence\n",
      "\n",
      "Warning! GLY found in RECEPTOR sequence\n",
      "\n"
     ]
    },
    {
     "name": "stderr",
     "output_type": "stream",
     "text": [
      "Processing files:  10%|██████▌                                                        | 22/210 [00:32<04:18,  1.37s/it]"
     ]
    },
    {
     "name": "stdout",
     "output_type": "stream",
     "text": [
      "Warning! GLY found in LIGAND sequence\n",
      "\n",
      "Warning! GLY found in RECEPTOR sequence\n",
      "\n"
     ]
    },
    {
     "name": "stderr",
     "output_type": "stream",
     "text": [
      "Processing files:  11%|██████▉                                                        | 23/210 [00:33<03:57,  1.27s/it]"
     ]
    },
    {
     "name": "stdout",
     "output_type": "stream",
     "text": [
      "Warning! GLY found in LIGAND sequence\n",
      "\n",
      "Warning! GLY found in RECEPTOR sequence\n",
      "\n"
     ]
    },
    {
     "name": "stderr",
     "output_type": "stream",
     "text": [
      "Processing files:  11%|███████▏                                                       | 24/210 [00:34<03:41,  1.19s/it]"
     ]
    },
    {
     "name": "stdout",
     "output_type": "stream",
     "text": [
      "Warning! GLY found in LIGAND sequence\n",
      "\n",
      "Warning! GLY found in RECEPTOR sequence\n",
      "\n"
     ]
    },
    {
     "name": "stderr",
     "output_type": "stream",
     "text": [
      "Processing files:  12%|███████▌                                                       | 25/210 [00:36<03:40,  1.19s/it]"
     ]
    },
    {
     "name": "stdout",
     "output_type": "stream",
     "text": [
      "Warning! GLY found in LIGAND sequence\n",
      "\n",
      "Warning! GLY found in RECEPTOR sequence\n",
      "\n"
     ]
    },
    {
     "name": "stderr",
     "output_type": "stream",
     "text": [
      "Processing files:  12%|███████▊                                                       | 26/210 [00:39<05:20,  1.74s/it]"
     ]
    },
    {
     "name": "stdout",
     "output_type": "stream",
     "text": [
      "Warning! GLY found in LIGAND sequence\n",
      "\n",
      "Warning! GLY found in RECEPTOR sequence\n",
      "\n"
     ]
    },
    {
     "name": "stderr",
     "output_type": "stream",
     "text": [
      "Processing files:  13%|████████                                                       | 27/210 [00:40<04:37,  1.52s/it]"
     ]
    },
    {
     "name": "stdout",
     "output_type": "stream",
     "text": [
      "Warning! GLY found in RECEPTOR sequence\n",
      "\n"
     ]
    },
    {
     "name": "stderr",
     "output_type": "stream",
     "text": [
      "Processing files:  13%|████████▍                                                      | 28/210 [00:41<04:05,  1.35s/it]"
     ]
    },
    {
     "name": "stdout",
     "output_type": "stream",
     "text": [
      "Warning! GLY found in RECEPTOR sequence\n",
      "\n"
     ]
    },
    {
     "name": "stderr",
     "output_type": "stream",
     "text": [
      "Processing files:  14%|████████▋                                                      | 29/210 [00:41<03:38,  1.21s/it]"
     ]
    },
    {
     "name": "stdout",
     "output_type": "stream",
     "text": [
      "Warning! GLY found in LIGAND sequence\n",
      "\n",
      "Warning! GLY found in RECEPTOR sequence\n",
      "\n"
     ]
    },
    {
     "name": "stderr",
     "output_type": "stream",
     "text": [
      "Processing files:  14%|█████████                                                      | 30/210 [00:44<04:59,  1.66s/it]"
     ]
    },
    {
     "name": "stdout",
     "output_type": "stream",
     "text": [
      "Warning! GLY found in RECEPTOR sequence\n",
      "\n"
     ]
    },
    {
     "name": "stderr",
     "output_type": "stream",
     "text": [
      "Processing files:  15%|█████████▌                                                     | 32/210 [00:46<03:28,  1.17s/it]"
     ]
    },
    {
     "name": "stdout",
     "output_type": "stream",
     "text": [
      "Error occurred while finding groups for c5ar1_human_7Y66, 7Y66: No consecutive sequences meeting the criteria were found\n",
      "Warning! GLY found in RECEPTOR sequence\n",
      "\n"
     ]
    },
    {
     "name": "stderr",
     "output_type": "stream",
     "text": [
      "Processing files:  16%|█████████▉                                                     | 33/210 [00:47<03:18,  1.12s/it]"
     ]
    },
    {
     "name": "stdout",
     "output_type": "stream",
     "text": [
      "Warning! GLY found in LIGAND sequence\n",
      "\n",
      "Warning! GLY found in RECEPTOR sequence\n",
      "\n"
     ]
    },
    {
     "name": "stderr",
     "output_type": "stream",
     "text": [
      "Processing files:  16%|██████████▏                                                    | 34/210 [00:49<04:43,  1.61s/it]"
     ]
    },
    {
     "name": "stdout",
     "output_type": "stream",
     "text": [
      "Warning! GLY found in LIGAND sequence\n",
      "\n",
      "Warning! GLY found in RECEPTOR sequence\n",
      "\n"
     ]
    },
    {
     "name": "stderr",
     "output_type": "stream",
     "text": [
      "Processing files:  17%|██████████▌                                                    | 35/210 [00:50<04:07,  1.41s/it]"
     ]
    },
    {
     "name": "stdout",
     "output_type": "stream",
     "text": [
      "Warning! GLY found in LIGAND sequence\n",
      "\n",
      "Warning! GLY found in RECEPTOR sequence\n",
      "\n"
     ]
    },
    {
     "name": "stderr",
     "output_type": "stream",
     "text": [
      "Processing files:  17%|██████████▊                                                    | 36/210 [00:51<03:49,  1.32s/it]"
     ]
    },
    {
     "name": "stdout",
     "output_type": "stream",
     "text": [
      "Warning! GLY found in LIGAND sequence\n",
      "\n",
      "Warning! GLY found in RECEPTOR sequence\n",
      "\n"
     ]
    },
    {
     "name": "stderr",
     "output_type": "stream",
     "text": [
      "Processing files:  18%|███████████                                                    | 37/210 [00:52<03:31,  1.22s/it]"
     ]
    },
    {
     "name": "stdout",
     "output_type": "stream",
     "text": [
      "Warning! GLY found in LIGAND sequence\n",
      "\n",
      "Warning! GLY found in RECEPTOR sequence\n",
      "\n"
     ]
    },
    {
     "name": "stderr",
     "output_type": "stream",
     "text": [
      "Processing files:  18%|███████████▍                                                   | 38/210 [00:53<03:15,  1.14s/it]"
     ]
    },
    {
     "name": "stdout",
     "output_type": "stream",
     "text": [
      "Warning! GLY found in LIGAND sequence\n",
      "\n",
      "Warning! GLY found in RECEPTOR sequence\n",
      "\n"
     ]
    },
    {
     "name": "stderr",
     "output_type": "stream",
     "text": [
      "Processing files:  19%|███████████▋                                                   | 39/210 [00:54<03:09,  1.11s/it]"
     ]
    },
    {
     "name": "stdout",
     "output_type": "stream",
     "text": [
      "Warning! GLY found in LIGAND sequence\n",
      "\n",
      "Warning! GLY found in RECEPTOR sequence\n",
      "\n"
     ]
    },
    {
     "name": "stderr",
     "output_type": "stream",
     "text": [
      "Processing files:  19%|████████████                                                   | 40/210 [00:56<03:10,  1.12s/it]"
     ]
    },
    {
     "name": "stdout",
     "output_type": "stream",
     "text": [
      "Warning! GLY found in LIGAND sequence\n",
      "\n",
      "Warning! GLY found in RECEPTOR sequence\n",
      "\n"
     ]
    },
    {
     "name": "stderr",
     "output_type": "stream",
     "text": [
      "Processing files:  20%|████████████▎                                                  | 41/210 [00:56<03:00,  1.07s/it]"
     ]
    },
    {
     "name": "stdout",
     "output_type": "stream",
     "text": [
      "Warning! GLY found in LIGAND sequence\n",
      "\n",
      "Warning! GLY found in RECEPTOR sequence\n",
      "\n"
     ]
    },
    {
     "name": "stderr",
     "output_type": "stream",
     "text": [
      "Processing files:  20%|████████████▌                                                  | 42/210 [00:59<04:05,  1.46s/it]"
     ]
    },
    {
     "name": "stdout",
     "output_type": "stream",
     "text": [
      "Warning! GLY found in LIGAND sequence\n",
      "\n",
      "Warning! GLY found in RECEPTOR sequence\n",
      "\n"
     ]
    },
    {
     "name": "stderr",
     "output_type": "stream",
     "text": [
      "Processing files:  20%|████████████▉                                                  | 43/210 [01:01<05:02,  1.81s/it]"
     ]
    },
    {
     "name": "stdout",
     "output_type": "stream",
     "text": [
      "Warning! GLY found in RECEPTOR sequence\n",
      "\n"
     ]
    },
    {
     "name": "stderr",
     "output_type": "stream",
     "text": [
      "Processing files:  21%|█████████████▏                                                 | 44/210 [01:04<05:55,  2.14s/it]"
     ]
    },
    {
     "name": "stdout",
     "output_type": "stream",
     "text": [
      "Warning! GLY found in LIGAND sequence\n",
      "\n",
      "Warning! GLY found in RECEPTOR sequence\n",
      "\n"
     ]
    },
    {
     "name": "stderr",
     "output_type": "stream",
     "text": [
      "Processing files:  21%|█████████████▌                                                 | 45/210 [01:07<06:26,  2.34s/it]"
     ]
    },
    {
     "name": "stdout",
     "output_type": "stream",
     "text": [
      "Warning! GLY found in LIGAND sequence\n",
      "\n",
      "Warning! GLY found in RECEPTOR sequence\n",
      "\n"
     ]
    },
    {
     "name": "stderr",
     "output_type": "stream",
     "text": [
      "Processing files:  22%|█████████████▊                                                 | 46/210 [01:20<14:40,  5.37s/it]"
     ]
    },
    {
     "name": "stdout",
     "output_type": "stream",
     "text": [
      "Warning! GLY found in LIGAND sequence\n",
      "\n",
      "Warning! GLY found in RECEPTOR sequence\n",
      "\n"
     ]
    },
    {
     "name": "stderr",
     "output_type": "stream",
     "text": [
      "Processing files:  22%|██████████████                                                 | 47/210 [01:32<20:07,  7.41s/it]"
     ]
    },
    {
     "name": "stdout",
     "output_type": "stream",
     "text": [
      "Warning! GLY found in LIGAND sequence\n",
      "\n",
      "Warning! GLY found in RECEPTOR sequence\n",
      "\n"
     ]
    },
    {
     "name": "stderr",
     "output_type": "stream",
     "text": [
      "Processing files:  23%|██████████████▍                                                | 48/210 [01:34<15:43,  5.82s/it]"
     ]
    },
    {
     "name": "stdout",
     "output_type": "stream",
     "text": [
      "Warning! GLY found in LIGAND sequence\n",
      "\n",
      "Warning! GLY found in RECEPTOR sequence\n",
      "\n"
     ]
    },
    {
     "name": "stderr",
     "output_type": "stream",
     "text": [
      "Processing files:  23%|██████████████▋                                                | 49/210 [01:36<12:20,  4.60s/it]"
     ]
    },
    {
     "name": "stdout",
     "output_type": "stream",
     "text": [
      "Warning! GLY found in LIGAND sequence\n",
      "\n",
      "Warning! GLY found in RECEPTOR sequence\n",
      "\n"
     ]
    },
    {
     "name": "stderr",
     "output_type": "stream",
     "text": [
      "Processing files:  24%|███████████████                                                | 50/210 [01:38<10:47,  4.05s/it]"
     ]
    },
    {
     "name": "stdout",
     "output_type": "stream",
     "text": [
      "Warning! GLY found in LIGAND sequence\n",
      "\n",
      "Warning! GLY found in RECEPTOR sequence\n",
      "\n"
     ]
    },
    {
     "name": "stderr",
     "output_type": "stream",
     "text": [
      "Processing files:  25%|███████████████▌                                               | 52/210 [01:42<07:12,  2.74s/it]"
     ]
    },
    {
     "name": "stdout",
     "output_type": "stream",
     "text": [
      "Error occurred while finding groups for ccr6_human_6WWZ, 6WWZ: No consecutive sequences meeting the criteria were found\n",
      "Warning! GLY found in LIGAND sequence\n",
      "\n",
      "Warning! GLY found in RECEPTOR sequence\n",
      "\n"
     ]
    },
    {
     "name": "stderr",
     "output_type": "stream",
     "text": [
      "Processing files:  25%|███████████████▉                                               | 53/210 [01:43<05:57,  2.27s/it]"
     ]
    },
    {
     "name": "stdout",
     "output_type": "stream",
     "text": [
      "Warning! GLY found in LIGAND sequence\n",
      "\n",
      "Warning! GLY found in RECEPTOR sequence\n",
      "\n"
     ]
    },
    {
     "name": "stderr",
     "output_type": "stream",
     "text": [
      "Processing files:  26%|████████████████▌                                              | 55/210 [01:45<04:24,  1.71s/it]"
     ]
    },
    {
     "name": "stdout",
     "output_type": "stream",
     "text": [
      "Error occurred while finding groups for cxcr2_human_6LFM, 6LFM: No consecutive sequences meeting the criteria were found\n",
      "Warning! GLY found in LIGAND sequence\n",
      "\n",
      "Warning! GLY found in RECEPTOR sequence\n",
      "\n"
     ]
    },
    {
     "name": "stderr",
     "output_type": "stream",
     "text": [
      "Processing files:  27%|████████████████▊                                              | 56/210 [01:48<04:58,  1.94s/it]"
     ]
    },
    {
     "name": "stdout",
     "output_type": "stream",
     "text": [
      "Warning! GLY found in LIGAND sequence\n",
      "\n",
      "Warning! GLY found in RECEPTOR sequence\n",
      "\n"
     ]
    },
    {
     "name": "stderr",
     "output_type": "stream",
     "text": [
      "Processing files:  27%|█████████████████                                              | 57/210 [01:49<04:19,  1.70s/it]"
     ]
    },
    {
     "name": "stdout",
     "output_type": "stream",
     "text": [
      "Warning! GLY found in LIGAND sequence\n",
      "\n",
      "Warning! GLY found in RECEPTOR sequence\n",
      "\n"
     ]
    },
    {
     "name": "stderr",
     "output_type": "stream",
     "text": [
      "Processing files:  28%|█████████████████▍                                             | 58/210 [01:52<05:02,  1.99s/it]"
     ]
    },
    {
     "name": "stdout",
     "output_type": "stream",
     "text": [
      "Warning! GLY found in RECEPTOR sequence\n",
      "\n"
     ]
    },
    {
     "name": "stderr",
     "output_type": "stream",
     "text": [
      "Processing files:  28%|█████████████████▋                                             | 59/210 [01:53<04:35,  1.82s/it]"
     ]
    },
    {
     "name": "stdout",
     "output_type": "stream",
     "text": [
      "Warning! GLY found in RECEPTOR sequence\n",
      "\n"
     ]
    },
    {
     "name": "stderr",
     "output_type": "stream",
     "text": [
      "Processing files:  29%|██████████████████                                             | 60/210 [01:55<04:16,  1.71s/it]"
     ]
    },
    {
     "name": "stdout",
     "output_type": "stream",
     "text": [
      "Warning! GLY found in RECEPTOR sequence\n",
      "\n"
     ]
    },
    {
     "name": "stderr",
     "output_type": "stream",
     "text": [
      "Processing files:  29%|██████████████████▎                                            | 61/210 [01:56<04:04,  1.64s/it]"
     ]
    },
    {
     "name": "stdout",
     "output_type": "stream",
     "text": [
      "Warning! GLY found in RECEPTOR sequence\n",
      "\n"
     ]
    },
    {
     "name": "stderr",
     "output_type": "stream",
     "text": [
      "Processing files:  30%|██████████████████▉                                            | 63/210 [01:58<02:43,  1.11s/it]"
     ]
    },
    {
     "name": "stdout",
     "output_type": "stream",
     "text": [
      "Error occurred while initializing data for ednrb_human_6K1Q, ednrb_human: No peptide column in the structural file\n",
      "Warning! GLY found in RECEPTOR sequence\n",
      "\n"
     ]
    },
    {
     "name": "stderr",
     "output_type": "stream",
     "text": [
      "Processing files:  30%|███████████████████▏                                           | 64/210 [01:59<02:55,  1.20s/it]"
     ]
    },
    {
     "name": "stdout",
     "output_type": "stream",
     "text": [
      "Warning! GLY found in RECEPTOR sequence\n",
      "\n"
     ]
    },
    {
     "name": "stderr",
     "output_type": "stream",
     "text": [
      "Processing files:  31%|███████████████████▌                                           | 65/210 [02:00<02:59,  1.24s/it]"
     ]
    },
    {
     "name": "stdout",
     "output_type": "stream",
     "text": [
      "Warning! GLY found in RECEPTOR sequence\n",
      "\n"
     ]
    },
    {
     "name": "stderr",
     "output_type": "stream",
     "text": [
      "Processing files:  32%|████████████████████                                           | 67/210 [02:02<02:31,  1.06s/it]"
     ]
    },
    {
     "name": "stdout",
     "output_type": "stream",
     "text": [
      "Error occurred while finding groups for fpr1_human_7EUO, 7EUO: No consecutive sequences meeting the criteria were found\n",
      "Warning! GLY found in RECEPTOR sequence\n",
      "\n"
     ]
    },
    {
     "name": "stderr",
     "output_type": "stream",
     "text": [
      "Processing files:  33%|████████████████████▋                                          | 69/210 [02:04<02:05,  1.13it/s]"
     ]
    },
    {
     "name": "stdout",
     "output_type": "stream",
     "text": [
      "Error occurred while finding groups for fpr1_human_7VFX, 7VFX: No consecutive sequences meeting the criteria were found\n"
     ]
    },
    {
     "name": "stderr",
     "output_type": "stream",
     "text": [
      "Processing files:  33%|█████████████████████                                          | 70/210 [02:04<01:50,  1.27it/s]"
     ]
    },
    {
     "name": "stdout",
     "output_type": "stream",
     "text": [
      "Error occurred while finding groups for fpr1_human_7WVU, 7WVU: No consecutive sequences meeting the criteria were found\n",
      "Warning! GLY found in RECEPTOR sequence\n",
      "\n"
     ]
    },
    {
     "name": "stderr",
     "output_type": "stream",
     "text": [
      "Processing files:  34%|█████████████████████▎                                         | 71/210 [02:05<02:03,  1.12it/s]"
     ]
    },
    {
     "name": "stdout",
     "output_type": "stream",
     "text": [
      "Warning! GLY found in RECEPTOR sequence\n",
      "\n"
     ]
    },
    {
     "name": "stderr",
     "output_type": "stream",
     "text": [
      "Processing files:  34%|█████████████████████▌                                         | 72/210 [02:06<02:00,  1.14it/s]"
     ]
    },
    {
     "name": "stdout",
     "output_type": "stream",
     "text": [
      "Warning! GLY found in RECEPTOR sequence\n",
      "\n"
     ]
    },
    {
     "name": "stderr",
     "output_type": "stream",
     "text": [
      "Processing files:  35%|█████████████████████▉                                         | 73/210 [02:07<02:02,  1.12it/s]"
     ]
    },
    {
     "name": "stdout",
     "output_type": "stream",
     "text": [
      "Warning! GLY found in RECEPTOR sequence\n",
      "\n"
     ]
    },
    {
     "name": "stderr",
     "output_type": "stream",
     "text": [
      "Processing files:  35%|██████████████████████▏                                        | 74/210 [02:08<01:58,  1.14it/s]"
     ]
    },
    {
     "name": "stdout",
     "output_type": "stream",
     "text": [
      "Warning! GLY found in RECEPTOR sequence\n",
      "\n"
     ]
    },
    {
     "name": "stderr",
     "output_type": "stream",
     "text": [
      "Processing files:  36%|██████████████████████▌                                        | 75/210 [02:09<01:57,  1.15it/s]"
     ]
    },
    {
     "name": "stdout",
     "output_type": "stream",
     "text": [
      "Warning! GLY found in RECEPTOR sequence\n",
      "\n"
     ]
    },
    {
     "name": "stderr",
     "output_type": "stream",
     "text": [
      "Processing files:  37%|███████████████████████                                        | 77/210 [02:10<01:46,  1.25it/s]"
     ]
    },
    {
     "name": "stdout",
     "output_type": "stream",
     "text": [
      "Error occurred while finding groups for fpr2_human_7WVX, 7WVX: No consecutive sequences meeting the criteria were found\n",
      "Warning! GLY found in LIGAND sequence\n",
      "\n",
      "Warning! GLY found in RECEPTOR sequence\n",
      "\n"
     ]
    },
    {
     "name": "stderr",
     "output_type": "stream",
     "text": [
      "Processing files:  38%|███████████████████████▋                                       | 79/210 [02:13<02:01,  1.07it/s]"
     ]
    },
    {
     "name": "stdout",
     "output_type": "stream",
     "text": [
      "Error occurred while finding groups for fshr_human_8I2G, 8I2G: 'No interaction data for the strcture in database\n",
      "Warning! GLY found in LIGAND sequence\n",
      "\n",
      "Warning! GLY found in RECEPTOR sequence\n",
      "\n"
     ]
    },
    {
     "name": "stderr",
     "output_type": "stream",
     "text": [
      "Processing files:  39%|████████████████████████▎                                      | 81/210 [02:14<01:53,  1.14it/s]"
     ]
    },
    {
     "name": "stdout",
     "output_type": "stream",
     "text": [
      "Error occurred while finding groups for galr1_human_7XJJ, 7XJJ: No consecutive sequences meeting the criteria were found\n",
      "Warning! GLY found in LIGAND sequence\n",
      "\n",
      "Warning! GLY found in RECEPTOR sequence\n",
      "\n"
     ]
    },
    {
     "name": "stderr",
     "output_type": "stream",
     "text": [
      "Processing files:  39%|████████████████████████▌                                      | 82/210 [02:16<02:07,  1.01it/s]"
     ]
    },
    {
     "name": "stdout",
     "output_type": "stream",
     "text": [
      "Warning! GLY found in LIGAND sequence\n",
      "\n",
      "Warning! GLY found in RECEPTOR sequence\n",
      "\n"
     ]
    },
    {
     "name": "stderr",
     "output_type": "stream",
     "text": [
      "Processing files:  40%|█████████████████████████▏                                     | 84/210 [02:17<01:52,  1.12it/s]"
     ]
    },
    {
     "name": "stdout",
     "output_type": "stream",
     "text": [
      "Error occurred while finding groups for galr2_human_7XJK, 7XJK: No consecutive sequences meeting the criteria were found\n",
      "Warning! GLY found in LIGAND sequence\n",
      "\n",
      "Warning! GLY found in RECEPTOR sequence\n",
      "\n"
     ]
    },
    {
     "name": "stderr",
     "output_type": "stream",
     "text": [
      "Processing files:  40%|█████████████████████████▌                                     | 85/210 [02:19<02:09,  1.03s/it]"
     ]
    },
    {
     "name": "stdout",
     "output_type": "stream",
     "text": [
      "Warning! GLY found in LIGAND sequence\n",
      "\n",
      "Warning! GLY found in RECEPTOR sequence\n",
      "\n"
     ]
    },
    {
     "name": "stderr",
     "output_type": "stream",
     "text": [
      "Processing files:  41%|██████████████████████████                                     | 87/210 [02:21<01:57,  1.05it/s]"
     ]
    },
    {
     "name": "stdout",
     "output_type": "stream",
     "text": [
      "Error occurred while finding groups for gasr_human_7XOW, 7XOW: No consecutive sequences meeting the criteria were found\n"
     ]
    },
    {
     "name": "stderr",
     "output_type": "stream",
     "text": [
      "Processing files:  42%|██████████████████████████▍                                    | 88/210 [02:21<01:49,  1.11it/s]"
     ]
    },
    {
     "name": "stdout",
     "output_type": "stream",
     "text": [
      "Error occurred while finding groups for gasr_human_7XOX, 7XOX: No consecutive sequences meeting the criteria were found\n",
      "Warning! GLY found in LIGAND sequence\n",
      "\n",
      "Warning! GLY found in RECEPTOR sequence\n",
      "\n"
     ]
    },
    {
     "name": "stderr",
     "output_type": "stream",
     "text": [
      "Processing files:  42%|██████████████████████████▋                                    | 89/210 [02:22<01:58,  1.02it/s]"
     ]
    },
    {
     "name": "stdout",
     "output_type": "stream",
     "text": [
      "Warning! GLY found in RECEPTOR sequence\n",
      "\n"
     ]
    },
    {
     "name": "stderr",
     "output_type": "stream",
     "text": [
      "Processing files:  43%|███████████████████████████                                    | 90/210 [02:23<01:53,  1.06it/s]"
     ]
    },
    {
     "name": "stdout",
     "output_type": "stream",
     "text": [
      "Warning! GLY found in LIGAND sequence\n",
      "\n",
      "Warning! GLY found in RECEPTOR sequence\n",
      "\n"
     ]
    },
    {
     "name": "stderr",
     "output_type": "stream",
     "text": [
      "Processing files:  43%|███████████████████████████▎                                   | 91/210 [02:25<02:00,  1.01s/it]"
     ]
    },
    {
     "name": "stdout",
     "output_type": "stream",
     "text": [
      "Warning! GLY found in LIGAND sequence\n",
      "\n",
      "Warning! GLY found in RECEPTOR sequence\n",
      "\n"
     ]
    },
    {
     "name": "stderr",
     "output_type": "stream",
     "text": [
      "Processing files:  44%|███████████████████████████▉                                   | 93/210 [02:26<01:52,  1.04it/s]"
     ]
    },
    {
     "name": "stdout",
     "output_type": "stream",
     "text": [
      "Error occurred while finding groups for grpr_human_7W3Z, 7W3Z: No consecutive sequences meeting the criteria were found\n"
     ]
    },
    {
     "name": "stderr",
     "output_type": "stream",
     "text": [
      "Processing files:  45%|████████████████████████████▏                                  | 94/210 [02:27<01:42,  1.13it/s]"
     ]
    },
    {
     "name": "stdout",
     "output_type": "stream",
     "text": [
      "Error occurred while finding groups for grpr_human_7W40, 7W40: No consecutive sequences meeting the criteria were found\n"
     ]
    },
    {
     "name": "stderr",
     "output_type": "stream",
     "text": [
      "Processing files:  45%|████████████████████████████▌                                  | 95/210 [02:28<01:33,  1.22it/s]"
     ]
    },
    {
     "name": "stdout",
     "output_type": "stream",
     "text": [
      "Error occurred while finding groups for lshr_human_7FIG, 7FIG: 'No interaction data for the strcture in database\n"
     ]
    },
    {
     "name": "stderr",
     "output_type": "stream",
     "text": [
      "Processing files:  46%|████████████████████████████▊                                  | 96/210 [02:29<01:34,  1.21it/s]"
     ]
    },
    {
     "name": "stdout",
     "output_type": "stream",
     "text": [
      "Error occurred while finding groups for lshr_human_7FIH, 7FIH: 'No interaction data for the strcture in database\n"
     ]
    },
    {
     "name": "stderr",
     "output_type": "stream",
     "text": [
      "Processing files:  46%|█████████████████████████████                                  | 97/210 [02:29<01:31,  1.23it/s]"
     ]
    },
    {
     "name": "stdout",
     "output_type": "stream",
     "text": [
      "Error occurred while finding groups for lshr_human_7FII, 7FII: 'No interaction data for the strcture in database\n",
      "Warning! GLY found in RECEPTOR sequence\n",
      "\n"
     ]
    },
    {
     "name": "stderr",
     "output_type": "stream",
     "text": [
      "Processing files:  47%|█████████████████████████████▍                                 | 98/210 [02:30<01:39,  1.12it/s]"
     ]
    },
    {
     "name": "stdout",
     "output_type": "stream",
     "text": [
      "Warning! GLY found in RECEPTOR sequence\n",
      "\n"
     ]
    },
    {
     "name": "stderr",
     "output_type": "stream",
     "text": [
      "Processing files:  47%|█████████████████████████████▋                                 | 99/210 [02:31<01:38,  1.13it/s]"
     ]
    },
    {
     "name": "stdout",
     "output_type": "stream",
     "text": [
      "Warning! GLY found in LIGAND sequence\n",
      "\n",
      "Warning! GLY found in RECEPTOR sequence\n",
      "\n"
     ]
    },
    {
     "name": "stderr",
     "output_type": "stream",
     "text": [
      "Processing files:  48%|█████████████████████████████▌                                | 100/210 [02:33<01:46,  1.04it/s]"
     ]
    },
    {
     "name": "stdout",
     "output_type": "stream",
     "text": [
      "Warning! GLY found in LIGAND sequence\n",
      "\n",
      "Warning! GLY found in RECEPTOR sequence\n",
      "\n"
     ]
    },
    {
     "name": "stderr",
     "output_type": "stream",
     "text": [
      "Processing files:  48%|█████████████████████████████▊                                | 101/210 [02:34<01:47,  1.02it/s]"
     ]
    },
    {
     "name": "stdout",
     "output_type": "stream",
     "text": [
      "Warning! GLY found in RECEPTOR sequence\n",
      "\n"
     ]
    },
    {
     "name": "stderr",
     "output_type": "stream",
     "text": [
      "Processing files:  49%|██████████████████████████████                                | 102/210 [02:34<01:43,  1.04it/s]"
     ]
    },
    {
     "name": "stdout",
     "output_type": "stream",
     "text": [
      "Warning! GLY found in RECEPTOR sequence\n",
      "\n"
     ]
    },
    {
     "name": "stderr",
     "output_type": "stream",
     "text": [
      "Processing files:  49%|██████████████████████████████▍                               | 103/210 [02:35<01:39,  1.07it/s]"
     ]
    },
    {
     "name": "stdout",
     "output_type": "stream",
     "text": [
      "Warning! GLY found in LIGAND sequence\n",
      "\n",
      "Warning! GLY found in RECEPTOR sequence\n",
      "\n"
     ]
    },
    {
     "name": "stderr",
     "output_type": "stream",
     "text": [
      "Processing files:  50%|███████████████████████████████                               | 105/210 [02:37<01:29,  1.17it/s]"
     ]
    },
    {
     "name": "stdout",
     "output_type": "stream",
     "text": [
      "Error occurred while finding groups for mrgx1_human_8DWC, 8DWC: No consecutive sequences meeting the criteria were found\n"
     ]
    },
    {
     "name": "stderr",
     "output_type": "stream",
     "text": [
      "Processing files:  50%|███████████████████████████████▎                              | 106/210 [02:37<01:18,  1.33it/s]"
     ]
    },
    {
     "name": "stdout",
     "output_type": "stream",
     "text": [
      "Error occurred while finding groups for mrgx1_human_8DWG, 8DWG: No consecutive sequences meeting the criteria were found\n"
     ]
    },
    {
     "name": "stderr",
     "output_type": "stream",
     "text": [
      "Processing files:  51%|███████████████████████████████▌                              | 107/210 [02:38<01:11,  1.45it/s]"
     ]
    },
    {
     "name": "stdout",
     "output_type": "stream",
     "text": [
      "Error occurred while finding groups for mrgx2_human_7S8L, 7S8L: No consecutive sequences meeting the criteria were found\n",
      "Warning! GLY found in RECEPTOR sequence\n",
      "\n"
     ]
    },
    {
     "name": "stderr",
     "output_type": "stream",
     "text": [
      "Processing files:  52%|████████████████████████████████▏                             | 109/210 [02:40<01:11,  1.42it/s]"
     ]
    },
    {
     "name": "stdout",
     "output_type": "stream",
     "text": [
      "Error occurred while finding groups for mrgx2_human_7VDL, 7VDL: No consecutive sequences meeting the criteria were found\n"
     ]
    },
    {
     "name": "stderr",
     "output_type": "stream",
     "text": [
      "Processing files:  53%|█████████████████████████████████                             | 112/210 [02:40<00:39,  2.46it/s]"
     ]
    },
    {
     "name": "stdout",
     "output_type": "stream",
     "text": [
      "Error occurred while finding groups for mrgx2_human_7VDM, 7VDM: No consecutive sequences meeting the criteria were found\n",
      "Error occurred while initializing data for mrgx2_human_7VUY, mrgx2_human: No peptide column in the structural file\n",
      "Error occurred while initializing data for mrgx2_human_7VUZ, mrgx2_human: No peptide column in the structural file\n"
     ]
    },
    {
     "name": "stderr",
     "output_type": "stream",
     "text": [
      "Processing files:  54%|█████████████████████████████████▎                            | 113/210 [02:41<00:42,  2.27it/s]"
     ]
    },
    {
     "name": "stdout",
     "output_type": "stream",
     "text": [
      "Error occurred while finding groups for mrgx2_human_7VV0, 7VV0: No consecutive sequences meeting the criteria were found\n",
      "Error occurred while initializing data for mrgx2_human_7VV3, mrgx2_human: No peptide column in the structural file\n",
      "Warning! GLY found in RECEPTOR sequence\n",
      "\n"
     ]
    },
    {
     "name": "stderr",
     "output_type": "stream",
     "text": [
      "Processing files:  55%|█████████████████████████████████▉                            | 115/210 [02:42<00:43,  2.20it/s]"
     ]
    },
    {
     "name": "stdout",
     "output_type": "stream",
     "text": [
      "Warning! GLY found in LIGAND sequence\n",
      "\n",
      "Warning! GLY found in RECEPTOR sequence\n",
      "\n"
     ]
    },
    {
     "name": "stderr",
     "output_type": "stream",
     "text": [
      "Processing files:  55%|██████████████████████████████████▏                           | 116/210 [02:43<00:55,  1.69it/s]"
     ]
    },
    {
     "name": "stdout",
     "output_type": "stream",
     "text": [
      "Warning! GLY found in LIGAND sequence\n",
      "\n",
      "Warning! GLY found in RECEPTOR sequence\n",
      "\n"
     ]
    },
    {
     "name": "stderr",
     "output_type": "stream",
     "text": [
      "Processing files:  56%|██████████████████████████████████▌                           | 117/210 [02:44<01:06,  1.40it/s]"
     ]
    },
    {
     "name": "stdout",
     "output_type": "stream",
     "text": [
      "Warning! GLY found in LIGAND sequence\n",
      "\n",
      "Warning! GLY found in RECEPTOR sequence\n",
      "\n"
     ]
    },
    {
     "name": "stderr",
     "output_type": "stream",
     "text": [
      "Processing files:  56%|██████████████████████████████████▊                           | 118/210 [02:45<01:14,  1.23it/s]"
     ]
    },
    {
     "name": "stdout",
     "output_type": "stream",
     "text": [
      "Warning! GLY found in RECEPTOR sequence\n",
      "\n"
     ]
    },
    {
     "name": "stderr",
     "output_type": "stream",
     "text": [
      "Processing files:  57%|███████████████████████████████████▏                          | 119/210 [02:46<01:14,  1.22it/s]"
     ]
    },
    {
     "name": "stdout",
     "output_type": "stream",
     "text": [
      "Warning! GLY found in LIGAND sequence\n",
      "\n",
      "Warning! GLY found in RECEPTOR sequence\n",
      "\n"
     ]
    },
    {
     "name": "stderr",
     "output_type": "stream",
     "text": [
      "Processing files:  57%|███████████████████████████████████▍                          | 120/210 [02:47<01:26,  1.04it/s]"
     ]
    },
    {
     "name": "stdout",
     "output_type": "stream",
     "text": [
      "Warning! GLY found in LIGAND sequence\n",
      "\n",
      "Warning! GLY found in RECEPTOR sequence\n",
      "\n"
     ]
    },
    {
     "name": "stderr",
     "output_type": "stream",
     "text": [
      "Processing files:  58%|███████████████████████████████████▋                          | 121/210 [02:48<01:33,  1.05s/it]"
     ]
    },
    {
     "name": "stdout",
     "output_type": "stream",
     "text": [
      "Warning! GLY found in LIGAND sequence\n",
      "\n",
      "Warning! GLY found in RECEPTOR sequence\n",
      "\n"
     ]
    },
    {
     "name": "stderr",
     "output_type": "stream",
     "text": [
      "Processing files:  58%|████████████████████████████████████                          | 122/210 [02:50<01:33,  1.06s/it]"
     ]
    },
    {
     "name": "stdout",
     "output_type": "stream",
     "text": [
      "Warning! GLY found in LIGAND sequence\n",
      "\n",
      "Warning! GLY found in RECEPTOR sequence\n",
      "\n"
     ]
    },
    {
     "name": "stderr",
     "output_type": "stream",
     "text": [
      "Processing files:  59%|████████████████████████████████████▎                         | 123/210 [02:51<01:32,  1.07s/it]"
     ]
    },
    {
     "name": "stdout",
     "output_type": "stream",
     "text": [
      "Warning! GLY found in LIGAND sequence\n",
      "\n",
      "Warning! GLY found in RECEPTOR sequence\n",
      "\n"
     ]
    },
    {
     "name": "stderr",
     "output_type": "stream",
     "text": [
      "Processing files:  59%|████████████████████████████████████▌                         | 124/210 [02:52<01:32,  1.07s/it]"
     ]
    },
    {
     "name": "stdout",
     "output_type": "stream",
     "text": [
      "Warning! GLY found in LIGAND sequence\n",
      "\n",
      "Warning! GLY found in RECEPTOR sequence\n",
      "\n"
     ]
    },
    {
     "name": "stderr",
     "output_type": "stream",
     "text": [
      "Processing files:  60%|████████████████████████████████████▉                         | 125/210 [02:53<01:30,  1.06s/it]"
     ]
    },
    {
     "name": "stdout",
     "output_type": "stream",
     "text": [
      "Warning! GLY found in LIGAND sequence\n",
      "\n",
      "Warning! GLY found in RECEPTOR sequence\n",
      "\n"
     ]
    },
    {
     "name": "stderr",
     "output_type": "stream",
     "text": [
      "Processing files:  60%|█████████████████████████████████████▏                        | 126/210 [02:54<01:26,  1.03s/it]"
     ]
    },
    {
     "name": "stdout",
     "output_type": "stream",
     "text": [
      "Warning! GLY found in RECEPTOR sequence\n",
      "\n"
     ]
    },
    {
     "name": "stderr",
     "output_type": "stream",
     "text": [
      "Processing files:  60%|█████████████████████████████████████▍                        | 127/210 [02:55<01:23,  1.00s/it]"
     ]
    },
    {
     "name": "stdout",
     "output_type": "stream",
     "text": [
      "Warning! GLY found in RECEPTOR sequence\n",
      "\n"
     ]
    },
    {
     "name": "stderr",
     "output_type": "stream",
     "text": [
      "Processing files:  61%|█████████████████████████████████████▊                        | 128/210 [02:56<01:25,  1.04s/it]"
     ]
    },
    {
     "name": "stdout",
     "output_type": "stream",
     "text": [
      "Warning! GLY found in RECEPTOR sequence\n",
      "\n"
     ]
    },
    {
     "name": "stderr",
     "output_type": "stream",
     "text": [
      "Processing files:  61%|██████████████████████████████████████                        | 129/210 [02:57<01:23,  1.03s/it]"
     ]
    },
    {
     "name": "stdout",
     "output_type": "stream",
     "text": [
      "Warning! GLY found in LIGAND sequence\n",
      "\n",
      "Warning! GLY found in RECEPTOR sequence\n",
      "\n"
     ]
    },
    {
     "name": "stderr",
     "output_type": "stream",
     "text": [
      "Processing files:  62%|██████████████████████████████████████▍                       | 130/210 [02:58<01:26,  1.08s/it]"
     ]
    },
    {
     "name": "stdout",
     "output_type": "stream",
     "text": [
      "Warning! GLY found in LIGAND sequence\n",
      "\n",
      "Warning! GLY found in RECEPTOR sequence\n",
      "\n"
     ]
    },
    {
     "name": "stderr",
     "output_type": "stream",
     "text": [
      "Processing files:  62%|██████████████████████████████████████▋                       | 131/210 [02:59<01:33,  1.18s/it]"
     ]
    },
    {
     "name": "stdout",
     "output_type": "stream",
     "text": [
      "Warning! GLY found in RECEPTOR sequence\n",
      "\n"
     ]
    },
    {
     "name": "stderr",
     "output_type": "stream",
     "text": [
      "Processing files:  63%|██████████████████████████████████████▉                       | 132/210 [03:01<01:40,  1.29s/it]"
     ]
    },
    {
     "name": "stdout",
     "output_type": "stream",
     "text": [
      "Warning! GLY found in LIGAND sequence\n",
      "\n",
      "Warning! GLY found in RECEPTOR sequence\n",
      "\n"
     ]
    },
    {
     "name": "stderr",
     "output_type": "stream",
     "text": [
      "Processing files:  63%|███████████████████████████████████████▎                      | 133/210 [03:03<01:52,  1.46s/it]"
     ]
    },
    {
     "name": "stdout",
     "output_type": "stream",
     "text": [
      "Warning! GLY found in LIGAND sequence\n",
      "\n",
      "Warning! GLY found in RECEPTOR sequence\n",
      "\n"
     ]
    },
    {
     "name": "stderr",
     "output_type": "stream",
     "text": [
      "Processing files:  64%|███████████████████████████████████████▌                      | 134/210 [03:05<01:57,  1.54s/it]"
     ]
    },
    {
     "name": "stdout",
     "output_type": "stream",
     "text": [
      "Warning! GLY found in RECEPTOR sequence\n",
      "\n"
     ]
    },
    {
     "name": "stderr",
     "output_type": "stream",
     "text": [
      "Processing files:  64%|███████████████████████████████████████▊                      | 135/210 [03:06<01:52,  1.49s/it]"
     ]
    },
    {
     "name": "stdout",
     "output_type": "stream",
     "text": [
      "Warning! GLY found in RECEPTOR sequence\n",
      "\n"
     ]
    },
    {
     "name": "stderr",
     "output_type": "stream",
     "text": [
      "Processing files:  65%|████████████████████████████████████████▏                     | 136/210 [03:07<01:48,  1.47s/it]"
     ]
    },
    {
     "name": "stdout",
     "output_type": "stream",
     "text": [
      "Warning! GLY found in LIGAND sequence\n",
      "\n",
      "Warning! GLY found in RECEPTOR sequence\n",
      "\n"
     ]
    },
    {
     "name": "stderr",
     "output_type": "stream",
     "text": [
      "Processing files:  65%|████████████████████████████████████████▍                     | 137/210 [03:09<01:53,  1.55s/it]"
     ]
    },
    {
     "name": "stdout",
     "output_type": "stream",
     "text": [
      "Warning! GLY found in RECEPTOR sequence\n",
      "\n"
     ]
    },
    {
     "name": "stderr",
     "output_type": "stream",
     "text": [
      "Processing files:  66%|████████████████████████████████████████▋                     | 138/210 [03:10<01:38,  1.37s/it]"
     ]
    },
    {
     "name": "stdout",
     "output_type": "stream",
     "text": [
      "Warning! GLY found in RECEPTOR sequence\n",
      "\n"
     ]
    },
    {
     "name": "stderr",
     "output_type": "stream",
     "text": [
      "Processing files:  67%|█████████████████████████████████████████▎                    | 140/210 [03:12<01:12,  1.04s/it]"
     ]
    },
    {
     "name": "stdout",
     "output_type": "stream",
     "text": [
      "Error occurred while finding groups for ntr1_human_6PWC, 6PWC: No consecutive sequences meeting the criteria were found\n",
      "Warning! GLY found in RECEPTOR sequence\n",
      "\n"
     ]
    },
    {
     "name": "stderr",
     "output_type": "stream",
     "text": [
      "Processing files:  67%|█████████████████████████████████████████▋                    | 141/210 [03:12<01:08,  1.00it/s]"
     ]
    },
    {
     "name": "stdout",
     "output_type": "stream",
     "text": [
      "Warning! GLY found in LIGAND sequence\n",
      "\n",
      "Warning! GLY found in RECEPTOR sequence\n",
      "\n"
     ]
    },
    {
     "name": "stderr",
     "output_type": "stream",
     "text": [
      "Processing files:  68%|█████████████████████████████████████████▉                    | 142/210 [03:13<01:06,  1.02it/s]"
     ]
    },
    {
     "name": "stdout",
     "output_type": "stream",
     "text": [
      "Warning! GLY found in RECEPTOR sequence\n",
      "\n"
     ]
    },
    {
     "name": "stderr",
     "output_type": "stream",
     "text": [
      "Processing files:  68%|██████████████████████████████████████████▏                   | 143/210 [03:14<01:07,  1.00s/it]"
     ]
    },
    {
     "name": "stdout",
     "output_type": "stream",
     "text": [
      "Warning! GLY found in LIGAND sequence\n",
      "\n",
      "Warning! GLY found in RECEPTOR sequence\n",
      "\n"
     ]
    },
    {
     "name": "stderr",
     "output_type": "stream",
     "text": [
      "Processing files:  69%|██████████████████████████████████████████▌                   | 144/210 [03:15<01:06,  1.01s/it]"
     ]
    },
    {
     "name": "stdout",
     "output_type": "stream",
     "text": [
      "Warning! GLY found in RECEPTOR sequence\n",
      "\n"
     ]
    },
    {
     "name": "stderr",
     "output_type": "stream",
     "text": [
      "Processing files:  69%|██████████████████████████████████████████▊                   | 145/210 [03:16<01:03,  1.02it/s]"
     ]
    },
    {
     "name": "stdout",
     "output_type": "stream",
     "text": [
      "Warning! GLY found in RECEPTOR sequence\n",
      "\n"
     ]
    },
    {
     "name": "stderr",
     "output_type": "stream",
     "text": [
      "Processing files:  70%|███████████████████████████████████████████                   | 146/210 [03:17<01:01,  1.04it/s]"
     ]
    },
    {
     "name": "stdout",
     "output_type": "stream",
     "text": [
      "Warning! GLY found in RECEPTOR sequence\n",
      "\n"
     ]
    },
    {
     "name": "stderr",
     "output_type": "stream",
     "text": [
      "Processing files:  70%|███████████████████████████████████████████▍                  | 147/210 [03:18<01:01,  1.02it/s]"
     ]
    },
    {
     "name": "stdout",
     "output_type": "stream",
     "text": [
      "Warning! GLY found in RECEPTOR sequence\n",
      "\n"
     ]
    },
    {
     "name": "stderr",
     "output_type": "stream",
     "text": [
      "Processing files:  70%|███████████████████████████████████████████▋                  | 148/210 [03:19<00:59,  1.04it/s]"
     ]
    },
    {
     "name": "stdout",
     "output_type": "stream",
     "text": [
      "Warning! GLY found in RECEPTOR sequence\n",
      "\n"
     ]
    },
    {
     "name": "stderr",
     "output_type": "stream",
     "text": [
      "Processing files:  71%|███████████████████████████████████████████▉                  | 149/210 [03:20<00:58,  1.04it/s]"
     ]
    },
    {
     "name": "stdout",
     "output_type": "stream",
     "text": [
      "Warning! GLY found in LIGAND sequence\n",
      "\n",
      "Warning! GLY found in RECEPTOR sequence\n",
      "\n"
     ]
    },
    {
     "name": "stderr",
     "output_type": "stream",
     "text": [
      "Processing files:  71%|████████████████████████████████████████████▎                 | 150/210 [03:21<01:01,  1.03s/it]"
     ]
    },
    {
     "name": "stdout",
     "output_type": "stream",
     "text": [
      "Warning! GLY found in RECEPTOR sequence\n",
      "\n"
     ]
    },
    {
     "name": "stderr",
     "output_type": "stream",
     "text": [
      "Processing files:  72%|████████████████████████████████████████████▌                 | 151/210 [03:22<00:58,  1.00it/s]"
     ]
    },
    {
     "name": "stdout",
     "output_type": "stream",
     "text": [
      "Warning! GLY found in RECEPTOR sequence\n",
      "\n"
     ]
    },
    {
     "name": "stderr",
     "output_type": "stream",
     "text": [
      "Processing files:  72%|████████████████████████████████████████████▉                 | 152/210 [03:23<01:00,  1.04s/it]"
     ]
    },
    {
     "name": "stdout",
     "output_type": "stream",
     "text": [
      "Warning! GLY found in RECEPTOR sequence\n",
      "\n"
     ]
    },
    {
     "name": "stderr",
     "output_type": "stream",
     "text": [
      "Processing files:  73%|█████████████████████████████████████████████▏                | 153/210 [03:24<00:58,  1.02s/it]"
     ]
    },
    {
     "name": "stdout",
     "output_type": "stream",
     "text": [
      "Warning! GLY found in RECEPTOR sequence\n",
      "\n"
     ]
    },
    {
     "name": "stderr",
     "output_type": "stream",
     "text": [
      "Processing files:  73%|█████████████████████████████████████████████▍                | 154/210 [03:25<00:55,  1.01it/s]"
     ]
    },
    {
     "name": "stdout",
     "output_type": "stream",
     "text": [
      "Warning! GLY found in RECEPTOR sequence\n",
      "\n"
     ]
    },
    {
     "name": "stderr",
     "output_type": "stream",
     "text": [
      "Processing files:  74%|█████████████████████████████████████████████▊                | 155/210 [03:26<00:53,  1.03it/s]"
     ]
    },
    {
     "name": "stdout",
     "output_type": "stream",
     "text": [
      "Warning! GLY found in RECEPTOR sequence\n",
      "\n"
     ]
    },
    {
     "name": "stderr",
     "output_type": "stream",
     "text": [
      "Processing files:  75%|██████████████████████████████████████████████▎               | 157/210 [03:28<00:47,  1.12it/s]"
     ]
    },
    {
     "name": "stdout",
     "output_type": "stream",
     "text": [
      "Error occurred while finding groups for ntr1_rat_8FN0, 8FN0: No consecutive sequences meeting the criteria were found\n",
      "Warning! GLY found in RECEPTOR sequence\n",
      "\n"
     ]
    },
    {
     "name": "stderr",
     "output_type": "stream",
     "text": [
      "Processing files:  76%|██████████████████████████████████████████████▉               | 159/210 [03:30<00:42,  1.21it/s]"
     ]
    },
    {
     "name": "stdout",
     "output_type": "stream",
     "text": [
      "Error occurred while finding groups for oprd_human_4RWA, 4RWA: No consecutive sequences meeting the criteria were found\n",
      "Warning! GLY found in LIGAND sequence\n",
      "\n",
      "Warning! GLY found in RECEPTOR sequence\n",
      "\n"
     ]
    },
    {
     "name": "stderr",
     "output_type": "stream",
     "text": [
      "Processing files:  77%|███████████████████████████████████████████████▌              | 161/210 [03:31<00:38,  1.28it/s]"
     ]
    },
    {
     "name": "stdout",
     "output_type": "stream",
     "text": [
      "Error occurred while finding groups for oprd_human_6PT2, 6PT2: No consecutive sequences meeting the criteria were found\n",
      "Warning! GLY found in LIGAND sequence\n",
      "\n",
      "Warning! GLY found in RECEPTOR sequence\n",
      "\n"
     ]
    },
    {
     "name": "stderr",
     "output_type": "stream",
     "text": [
      "Processing files:  77%|███████████████████████████████████████████████▊              | 162/210 [03:32<00:42,  1.14it/s]"
     ]
    },
    {
     "name": "stdout",
     "output_type": "stream",
     "text": [
      "Warning! GLY found in LIGAND sequence\n",
      "\n",
      "Warning! GLY found in RECEPTOR sequence\n",
      "\n"
     ]
    },
    {
     "name": "stderr",
     "output_type": "stream",
     "text": [
      "Processing files:  78%|████████████████████████████████████████████████              | 163/210 [03:33<00:41,  1.13it/s]"
     ]
    },
    {
     "name": "stdout",
     "output_type": "stream",
     "text": [
      "Warning! GLY found in LIGAND sequence\n",
      "\n",
      "Warning! GLY found in RECEPTOR sequence\n",
      "\n"
     ]
    },
    {
     "name": "stderr",
     "output_type": "stream",
     "text": [
      "Processing files:  79%|████████████████████████████████████████████████▋             | 165/210 [03:35<00:35,  1.27it/s]"
     ]
    },
    {
     "name": "stdout",
     "output_type": "stream",
     "text": [
      "Error occurred while finding groups for oprm_human_8EFQ, 8EFQ: No consecutive sequences meeting the criteria were found\n",
      "Warning! GLY found in LIGAND sequence\n",
      "\n",
      "Warning! GLY found in RECEPTOR sequence\n",
      "\n"
     ]
    },
    {
     "name": "stderr",
     "output_type": "stream",
     "text": [
      "Processing files:  80%|█████████████████████████████████████████████████▎            | 167/210 [03:37<00:36,  1.17it/s]"
     ]
    },
    {
     "name": "stdout",
     "output_type": "stream",
     "text": [
      "Error occurred while finding groups for oprm_human_8F7R, 8F7R: No consecutive sequences meeting the criteria were found\n",
      "Warning! GLY found in LIGAND sequence\n",
      "\n",
      "Warning! GLY found in RECEPTOR sequence\n",
      "\n"
     ]
    },
    {
     "name": "stderr",
     "output_type": "stream",
     "text": [
      "Processing files:  80%|█████████████████████████████████████████████████▌            | 168/210 [03:38<00:37,  1.11it/s]"
     ]
    },
    {
     "name": "stdout",
     "output_type": "stream",
     "text": [
      "Warning! GLY found in LIGAND sequence\n",
      "\n",
      "Warning! GLY found in RECEPTOR sequence\n",
      "\n"
     ]
    },
    {
     "name": "stderr",
     "output_type": "stream",
     "text": [
      "Processing files:  80%|█████████████████████████████████████████████████▉            | 169/210 [03:38<00:36,  1.12it/s]"
     ]
    },
    {
     "name": "stdout",
     "output_type": "stream",
     "text": [
      "Warning! GLY found in LIGAND sequence\n",
      "\n",
      "Warning! GLY found in RECEPTOR sequence\n",
      "\n"
     ]
    },
    {
     "name": "stderr",
     "output_type": "stream",
     "text": [
      "Processing files:  81%|██████████████████████████████████████████████████▏           | 170/210 [03:40<00:40,  1.00s/it]"
     ]
    },
    {
     "name": "stdout",
     "output_type": "stream",
     "text": [
      "Warning! GLY found in LIGAND sequence\n",
      "\n",
      "Warning! GLY found in RECEPTOR sequence\n",
      "\n"
     ]
    },
    {
     "name": "stderr",
     "output_type": "stream",
     "text": [
      "Processing files:  81%|██████████████████████████████████████████████████▍           | 171/210 [03:41<00:39,  1.01s/it]"
     ]
    },
    {
     "name": "stdout",
     "output_type": "stream",
     "text": [
      "Warning! GLY found in LIGAND sequence\n",
      "\n",
      "Warning! GLY found in RECEPTOR sequence\n",
      "\n"
     ]
    },
    {
     "name": "stderr",
     "output_type": "stream",
     "text": [
      "Processing files:  82%|██████████████████████████████████████████████████▊           | 172/210 [03:42<00:38,  1.02s/it]"
     ]
    },
    {
     "name": "stdout",
     "output_type": "stream",
     "text": [
      "Warning! GLY found in LIGAND sequence\n",
      "\n",
      "Warning! GLY found in RECEPTOR sequence\n",
      "\n"
     ]
    },
    {
     "name": "stderr",
     "output_type": "stream",
     "text": [
      "Processing files:  82%|███████████████████████████████████████████████████           | 173/210 [03:43<00:36,  1.01it/s]"
     ]
    },
    {
     "name": "stdout",
     "output_type": "stream",
     "text": [
      "Warning! GLY found in LIGAND sequence\n",
      "\n",
      "Warning! GLY found in RECEPTOR sequence\n",
      "\n"
     ]
    },
    {
     "name": "stderr",
     "output_type": "stream",
     "text": [
      "Processing files:  83%|███████████████████████████████████████████████████▋          | 175/210 [03:46<00:44,  1.26s/it]"
     ]
    },
    {
     "name": "stdout",
     "output_type": "stream",
     "text": [
      "Error occurred while finding groups for rl3r2_human_7YJ4, 7YJ4: No consecutive sequences meeting the criteria were found\n"
     ]
    },
    {
     "name": "stderr",
     "output_type": "stream",
     "text": [
      "Processing files:  84%|███████████████████████████████████████████████████▉          | 176/210 [03:47<00:35,  1.05s/it]"
     ]
    },
    {
     "name": "stdout",
     "output_type": "stream",
     "text": [
      "Error occurred while finding groups for s1pr1_human_8G94, 8G94: No consecutive sequences meeting the criteria were found\n",
      "Warning! GLY found in LIGAND sequence\n",
      "\n",
      "Warning! GLY found in RECEPTOR sequence\n",
      "\n"
     ]
    },
    {
     "name": "stderr",
     "output_type": "stream",
     "text": [
      "Processing files:  84%|████████████████████████████████████████████████████▎         | 177/210 [03:48<00:34,  1.04s/it]"
     ]
    },
    {
     "name": "stdout",
     "output_type": "stream",
     "text": [
      "Warning! GLY found in RECEPTOR sequence\n",
      "\n"
     ]
    },
    {
     "name": "stderr",
     "output_type": "stream",
     "text": [
      "Processing files:  85%|████████████████████████████████████████████████████▌         | 178/210 [03:49<00:33,  1.06s/it]"
     ]
    },
    {
     "name": "stdout",
     "output_type": "stream",
     "text": [
      "Warning! GLY found in LIGAND sequence\n",
      "\n",
      "Warning! GLY found in RECEPTOR sequence\n",
      "\n"
     ]
    },
    {
     "name": "stderr",
     "output_type": "stream",
     "text": [
      "Processing files:  85%|████████████████████████████████████████████████████▊         | 179/210 [03:50<00:33,  1.07s/it]"
     ]
    },
    {
     "name": "stdout",
     "output_type": "stream",
     "text": [
      "Warning! GLY found in RECEPTOR sequence\n",
      "\n"
     ]
    },
    {
     "name": "stderr",
     "output_type": "stream",
     "text": [
      "Processing files:  86%|█████████████████████████████████████████████████████▍        | 181/210 [03:52<00:27,  1.07it/s]"
     ]
    },
    {
     "name": "stdout",
     "output_type": "stream",
     "text": [
      "Error occurred while finding groups for ssr2_human_7XAT, 7XAT: 'No interaction data for the strcture in database\n",
      "Warning! GLY found in RECEPTOR sequence\n",
      "\n"
     ]
    },
    {
     "name": "stderr",
     "output_type": "stream",
     "text": [
      "Processing files:  87%|█████████████████████████████████████████████████████▋        | 182/210 [03:53<00:29,  1.06s/it]"
     ]
    },
    {
     "name": "stdout",
     "output_type": "stream",
     "text": [
      "Warning! GLY found in RECEPTOR sequence\n",
      "\n"
     ]
    },
    {
     "name": "stderr",
     "output_type": "stream",
     "text": [
      "Processing files:  87%|██████████████████████████████████████████████████████        | 183/210 [03:54<00:27,  1.00s/it]"
     ]
    },
    {
     "name": "stdout",
     "output_type": "stream",
     "text": [
      "Warning! GLY found in LIGAND sequence\n",
      "\n",
      "Warning! GLY found in RECEPTOR sequence\n",
      "\n"
     ]
    },
    {
     "name": "stderr",
     "output_type": "stream",
     "text": [
      "Processing files:  88%|██████████████████████████████████████████████████████▎       | 184/210 [03:55<00:27,  1.07s/it]"
     ]
    },
    {
     "name": "stdout",
     "output_type": "stream",
     "text": [
      "Warning! GLY found in RECEPTOR sequence\n",
      "\n"
     ]
    },
    {
     "name": "stderr",
     "output_type": "stream",
     "text": [
      "Processing files:  89%|██████████████████████████████████████████████████████▉       | 186/210 [03:57<00:22,  1.06it/s]"
     ]
    },
    {
     "name": "stdout",
     "output_type": "stream",
     "text": [
      "Error occurred while finding groups for ssr2_human_7Y24, 7Y24: No consecutive sequences meeting the criteria were found\n",
      "Warning! GLY found in RECEPTOR sequence\n",
      "\n"
     ]
    },
    {
     "name": "stderr",
     "output_type": "stream",
     "text": [
      "Processing files:  89%|███████████████████████████████████████████████████████▏      | 187/210 [03:58<00:21,  1.07it/s]"
     ]
    },
    {
     "name": "stdout",
     "output_type": "stream",
     "text": [
      "Warning! GLY found in RECEPTOR sequence\n",
      "\n"
     ]
    },
    {
     "name": "stderr",
     "output_type": "stream",
     "text": [
      "Processing files:  90%|███████████████████████████████████████████████████████▌      | 188/210 [03:59<00:21,  1.05it/s]"
     ]
    },
    {
     "name": "stdout",
     "output_type": "stream",
     "text": [
      "Warning! GLY found in RECEPTOR sequence\n",
      "\n"
     ]
    },
    {
     "name": "stderr",
     "output_type": "stream",
     "text": [
      "Processing files:  90%|███████████████████████████████████████████████████████▊      | 189/210 [04:00<00:20,  1.05it/s]"
     ]
    },
    {
     "name": "stdout",
     "output_type": "stream",
     "text": [
      "Warning! GLY found in RECEPTOR sequence\n",
      "\n"
     ]
    },
    {
     "name": "stderr",
     "output_type": "stream",
     "text": [
      "Processing files:  91%|████████████████████████████████████████████████████████▍     | 191/210 [04:01<00:17,  1.10it/s]"
     ]
    },
    {
     "name": "stdout",
     "output_type": "stream",
     "text": [
      "Error occurred while finding groups for trfr_human_7WKD, 7WKD: No consecutive sequences meeting the criteria were found\n"
     ]
    },
    {
     "name": "stderr",
     "output_type": "stream",
     "text": [
      "Processing files:  91%|████████████████████████████████████████████████████████▋     | 192/210 [04:02<00:15,  1.19it/s]"
     ]
    },
    {
     "name": "stdout",
     "output_type": "stream",
     "text": [
      "Error occurred while finding groups for trfr_human_7X1U, 7X1U: No consecutive sequences meeting the criteria were found\n"
     ]
    },
    {
     "name": "stderr",
     "output_type": "stream",
     "text": [
      "Processing files:  92%|████████████████████████████████████████████████████████▉     | 193/210 [04:03<00:13,  1.29it/s]"
     ]
    },
    {
     "name": "stdout",
     "output_type": "stream",
     "text": [
      "Error occurred while finding groups for trfr_human_7XW9, 7XW9: No consecutive sequences meeting the criteria were found\n"
     ]
    },
    {
     "name": "stderr",
     "output_type": "stream",
     "text": [
      "Processing files:  92%|█████████████████████████████████████████████████████████▎    | 194/210 [04:04<00:14,  1.12it/s]"
     ]
    },
    {
     "name": "stdout",
     "output_type": "stream",
     "text": [
      "Error occurred while finding groups for tshr_human_7T9I, 7T9I: 'No interaction data for the strcture in database\n"
     ]
    },
    {
     "name": "stderr",
     "output_type": "stream",
     "text": [
      "Processing files:  93%|█████████████████████████████████████████████████████████▌    | 195/210 [04:05<00:13,  1.09it/s]"
     ]
    },
    {
     "name": "stdout",
     "output_type": "stream",
     "text": [
      "Error occurred while finding groups for tshr_human_7T9M, 7T9M: 'No interaction data for the strcture in database\n",
      "Warning: (Insertion Code) \"insertion\" column contains non-empty, non-null values!\n"
     ]
    },
    {
     "name": "stderr",
     "output_type": "stream",
     "text": [
      "Processing files:  93%|█████████████████████████████████████████████████████████▊    | 196/210 [04:06<00:13,  1.05it/s]"
     ]
    },
    {
     "name": "stdout",
     "output_type": "stream",
     "text": [
      "Error occurred while finding groups for tshr_human_7T9N, 7T9N: 'No interaction data for the strcture in database\n"
     ]
    },
    {
     "name": "stderr",
     "output_type": "stream",
     "text": [
      "Processing files:  94%|██████████████████████████████████████████████████████████▏   | 197/210 [04:07<00:12,  1.08it/s]"
     ]
    },
    {
     "name": "stdout",
     "output_type": "stream",
     "text": [
      "Error occurred while finding groups for tshr_human_7UTZ, 7UTZ: 'No interaction data for the strcture in database\n"
     ]
    },
    {
     "name": "stderr",
     "output_type": "stream",
     "text": [
      "Processing files:  94%|██████████████████████████████████████████████████████████▍   | 198/210 [04:08<00:10,  1.10it/s]"
     ]
    },
    {
     "name": "stdout",
     "output_type": "stream",
     "text": [
      "Error occurred while finding groups for tshr_human_7XW5, 7XW5: 'No interaction data for the strcture in database\n",
      "Warning: (Insertion Code) \"insertion\" column contains non-empty, non-null values!\n"
     ]
    },
    {
     "name": "stderr",
     "output_type": "stream",
     "text": [
      "Processing files:  95%|██████████████████████████████████████████████████████████▊   | 199/210 [04:09<00:10,  1.03it/s]"
     ]
    },
    {
     "name": "stdout",
     "output_type": "stream",
     "text": [
      "Error occurred while finding groups for tshr_human_7XW6, 7XW6: 'No interaction data for the strcture in database\n",
      "Warning: (Insertion Code) \"insertion\" column contains non-empty, non-null values!\n"
     ]
    },
    {
     "name": "stderr",
     "output_type": "stream",
     "text": [
      "Processing files:  95%|███████████████████████████████████████████████████████████   | 200/210 [04:10<00:09,  1.07it/s]"
     ]
    },
    {
     "name": "stdout",
     "output_type": "stream",
     "text": [
      "Error occurred while finding groups for tshr_human_7XW7, 7XW7: 'No interaction data for the strcture in database\n",
      "Warning! GLY found in LIGAND sequence\n",
      "\n",
      "Warning! GLY found in RECEPTOR sequence\n",
      "\n"
     ]
    },
    {
     "name": "stderr",
     "output_type": "stream",
     "text": [
      "Processing files:  96%|███████████████████████████████████████████████████████████▎  | 201/210 [04:12<00:12,  1.44s/it]"
     ]
    },
    {
     "name": "stdout",
     "output_type": "stream",
     "text": [
      "Warning! GLY found in LIGAND sequence\n",
      "\n",
      "Warning! GLY found in RECEPTOR sequence\n",
      "\n"
     ]
    },
    {
     "name": "stderr",
     "output_type": "stream",
     "text": [
      "Processing files:  96%|███████████████████████████████████████████████████████████▋  | 202/210 [04:15<00:14,  1.81s/it]"
     ]
    },
    {
     "name": "stdout",
     "output_type": "stream",
     "text": [
      "Warning! GLY found in LIGAND sequence\n",
      "\n",
      "Warning! GLY found in RECEPTOR sequence\n",
      "\n"
     ]
    },
    {
     "name": "stderr",
     "output_type": "stream",
     "text": [
      "Processing files:  97%|███████████████████████████████████████████████████████████▉  | 203/210 [04:17<00:14,  2.04s/it]"
     ]
    },
    {
     "name": "stdout",
     "output_type": "stream",
     "text": [
      "Warning! GLY found in LIGAND sequence\n",
      "\n",
      "Warning! GLY found in RECEPTOR sequence\n",
      "\n"
     ]
    },
    {
     "name": "stderr",
     "output_type": "stream",
     "text": [
      "Processing files:  97%|████████████████████████████████████████████████████████████▏ | 204/210 [04:20<00:13,  2.20s/it]"
     ]
    },
    {
     "name": "stdout",
     "output_type": "stream",
     "text": [
      "Warning! GLY found in LIGAND sequence\n",
      "\n",
      "Warning! GLY found in RECEPTOR sequence\n",
      "\n"
     ]
    },
    {
     "name": "stderr",
     "output_type": "stream",
     "text": [
      "Processing files:  98%|████████████████████████████████████████████████████████████▊ | 206/210 [04:23<00:07,  1.82s/it]"
     ]
    },
    {
     "name": "stdout",
     "output_type": "stream",
     "text": [
      "Error occurred while finding groups for v2r_human_7BB6, 7BB6: No consecutive sequences meeting the criteria were found\n"
     ]
    },
    {
     "name": "stderr",
     "output_type": "stream",
     "text": [
      "Processing files:  99%|█████████████████████████████████████████████████████████████ | 207/210 [04:24<00:04,  1.44s/it]"
     ]
    },
    {
     "name": "stdout",
     "output_type": "stream",
     "text": [
      "Error occurred while finding groups for v2r_human_7BB7, 7BB7: No consecutive sequences meeting the criteria were found\n",
      "Warning! GLY found in LIGAND sequence\n",
      "\n",
      "Warning! GLY found in RECEPTOR sequence\n",
      "\n"
     ]
    },
    {
     "name": "stderr",
     "output_type": "stream",
     "text": [
      "Processing files:  99%|█████████████████████████████████████████████████████████████▍| 208/210 [04:25<00:02,  1.31s/it]"
     ]
    },
    {
     "name": "stdout",
     "output_type": "stream",
     "text": [
      "Warning! GLY found in LIGAND sequence\n",
      "\n",
      "Warning! GLY found in RECEPTOR sequence\n",
      "\n"
     ]
    },
    {
     "name": "stderr",
     "output_type": "stream",
     "text": [
      "Processing files: 100%|█████████████████████████████████████████████████████████████▋| 209/210 [04:26<00:01,  1.22s/it]"
     ]
    },
    {
     "name": "stdout",
     "output_type": "stream",
     "text": [
      "Warning! GLY found in LIGAND sequence\n",
      "\n",
      "Warning! GLY found in RECEPTOR sequence\n",
      "\n"
     ]
    },
    {
     "name": "stderr",
     "output_type": "stream",
     "text": [
      "Processing files: 100%|██████████████████████████████████████████████████████████████| 210/210 [04:27<00:00,  1.27s/it]\n"
     ]
    }
   ],
   "source": [
    "# 2.2 Implementation\n",
    "\n",
    "from tqdm import tqdm\n",
    "import os\n",
    "import re\n",
    "import requests\n",
    "import pandas as pd\n",
    "import numpy as np\n",
    "from biopandas.pdb import PandasPdb\n",
    "import requests\n",
    "import pandas as pd\n",
    "\n",
    "def list_files_in_directory(directory):\n",
    "    entries = os.listdir(directory)\n",
    "    files = [entry for entry in entries if os.path.isfile(os.path.join(directory, entry))]\n",
    "\n",
    "    return files\n",
    "\n",
    "directory_path = r\"D:\\GloriamGroup Dropbox\\Sun Yifan\\Yifan_peptide_project\\Data\\Experimental Structures Update\"\n",
    "file_list = list_files_in_directory(directory_path)\n",
    "\n",
    "# original oprd_human_4RWD.pdb\n",
    "backbones = [] # oprd_human_4RWD\n",
    "receptors = [] # oprd_human\n",
    "ligands = [] # ligand is from this PDB file: 4RWD\n",
    "results_list = []\n",
    "ligand_residues = {}\n",
    "\n",
    "for item in file_list:\n",
    "    parts = item.split('_')\n",
    "    backbone = item[:-4]   \n",
    "    receptor = parts[0] + '_' + parts[1]  \n",
    "    ligand = parts[2].split('.')[0]  \n",
    "\n",
    "    backbones.append(backbone)\n",
    "    receptors.append(receptor)\n",
    "    ligands.append(ligand)\n",
    "\n",
    "for i in tqdm(range(len(file_list)), desc=\"Processing files\"):\n",
    "    backbone = backbones[i]\n",
    "    entry_name = receptors[i]\n",
    "    ligand_name = ligands[i]\n",
    "    process_success = True  \n",
    "\n",
    "    # attempt to read the PDB file and obtain the list of receptor residues\n",
    "    try:\n",
    "        inference_data = PandasPdb().read_pdb(f\"D:\\\\GloriamGroup Dropbox\\\\Sun Yifan\\\\Yifan_peptide_project\\\\Data\\\\Experimental Structures Update\\\\{backbone}.pdb\")\n",
    "        # Check if there are any values in the 'insertion' column\n",
    "        if (inference_data.df['ATOM']['insertion'].notnull() & (inference_data.df['ATOM']['insertion'] != '')).any():\n",
    "            print('Warning: (Insertion Code) \"insertion\" column contains non-empty, non-null values!')\n",
    "        # Check if there are any values in the 'insertion' column\n",
    "        if (inference_data.df['HETATM']['insertion'].notnull() & (inference_data.df['HETATM']['insertion'] != '')).any():\n",
    "            print('Warning : (Insertion Code) \"insertion\" column contains non-empty, non-null values!') \n",
    "       \n",
    "        # only for nature residues\n",
    "        df_1 = inference_data.df['ATOM']\n",
    "        group_keys = ['atom_name', 'residue_name', 'chain_id', 'residue_number']\n",
    "        sorted_data = df_1.sort_values(by=['occupancy', 'b_factor'], ascending=[False, True])\n",
    "        df_1 = sorted_data.drop_duplicates(subset=group_keys, keep='first').copy()\n",
    "\n",
    "        # also include unnature residues \"X\"\n",
    "        df_2 = inference_data.df['HETATM']\n",
    "        df_2.loc[:,\"residue_name\"] = 'X'\n",
    "        sorted_data_2 = df_2.sort_values(by=['occupancy', 'b_factor'], ascending=[False, True])\n",
    "        df_2 = sorted_data_2.drop_duplicates(subset=group_keys, keep='first').copy()\n",
    "\n",
    "        inference_df = pd.concat([df_1, df_2])\n",
    "        inference_df = inference_df[[\"atom_name\", \"residue_name\", \"chain_id\", \"residue_number\", \"x_coord\", \"y_coord\", \"z_coord\"]].copy()\n",
    "\n",
    "        \n",
    "        # get the ligand sequence\n",
    "        inference_df = inference_df.sort_values(by=[\"residue_number\"])\n",
    "        ligand = inference_df[(inference_df[\"chain_id\"] == \"B\") & (inference_df[\"atom_name\"] == \"CA\")]\n",
    "        \n",
    "        if ligand.empty:\n",
    "            raise ValueError(\"No peptide column in the structural file\")\n",
    "\n",
    "        ligand = ligand.copy()\n",
    "        ligand.loc[:, 'residue_name'] = ligand['residue_name'].map(amino_acids_dict)\n",
    "        ligand_unique = ligand.drop_duplicates(subset=['residue_number'], keep='first')\n",
    "\n",
    "        # 得到sequence和position\n",
    "        ligand_sequence = ''.join(ligand_unique.loc[:,\"residue_name\"].tolist()) # 需要有顺序\n",
    "        ligand_positions = np.array(ligand_unique[\"residue_number\"].tolist())\n",
    "        \n",
    "        ligand_residues[backbone] = {\n",
    "            'sequence': ligand_sequence,\n",
    "            'positions': ligand_positions\n",
    "        }\n",
    "        \n",
    "        # get the corresponding residue generic number\n",
    "        url_2 = f\"https://gpcrdb.org/services/residues/{entry_name}/\"\n",
    "        response_2 = requests.get(url_2)\n",
    "        response_2.raise_for_status()  \n",
    "        df_protein_residue = pd.DataFrame(response_2.json())\n",
    "        df_protein_residue = df_protein_residue[[\"sequence_number\", \"display_generic_number\"]]\n",
    "        df_protein_residue = df_protein_residue.rename(columns={\"sequence_number\": \"residue_number\"})\n",
    "    except Exception as e:\n",
    "        print(f\"Error occurred while initializing data for {backbone}, {entry_name}: {e}\")\n",
    "        process_success = False\n",
    "        \n",
    "    # attempt to obtain the interaction list and identify the appropriate groups\n",
    "    if process_success:\n",
    "        try:\n",
    "            url = f\"https://jimmy.gpcrdb.org/services/structure/{ligand_name}/peptideinteraction/\"\n",
    "            data_code = requests.get(url).json()\n",
    "            peptide_residue_seq = pd.DataFrame(data_code)\n",
    "            if 'peptide_residue_number' not in peptide_residue_seq.columns:\n",
    "                raise ValueError(\"'No interaction data for the strcture in database\")\n",
    "            #  make predictions only for residue numbers that match the interaction requiremnt\n",
    "            peptide_residue_seq_num = np.unique(peptide_residue_seq[\"peptide_residue_number\"].tolist())\n",
    "            groups = find_interaction_part(peptide_residue_seq_num)\n",
    "            if not groups:\n",
    "                raise ValueError(\"No consecutive sequences meeting the criteria were found\")\n",
    "        except Exception as e:\n",
    "            print(f\"Error occurred while finding groups for {backbone}, {ligand_name}: {e}\")\n",
    "            process_success = False\n",
    "\n",
    "    # process the analysis and merge the results\n",
    "    if process_success:\n",
    "        try:\n",
    "            ligand_atoms, receptor_atoms, receptor_atoms_CA, ligand_atoms_CA, merged = pre_treatment(inference_df, df_protein_residue)\n",
    "            Ca_Ca_distance = calculate_CaCa_distance(receptor_atoms_CA, ligand_atoms_CA)\n",
    "            angle = calculate_CaCb_angle(ligand_atoms, receptor_atoms, merged)\n",
    "            toptwofreqAA = prediction_ligands(Ca_Ca_distance, angle, reference_GPCR)\n",
    "            result = merge_permutation_results(groups, toptwofreqAA, backbone)\n",
    "            results_list.append(result)\n",
    "\n",
    "        except Exception as e:\n",
    "            print(f\"An error occurred during the analysis for {backbone}, {entry_name}: {e}\")\n",
    "         \n",
    "result_df = pd.concat(results_list, ignore_index=True)\n"
   ]
  },
  {
   "cell_type": "code",
   "execution_count": 13,
   "id": "88ba739a",
   "metadata": {},
   "outputs": [
    {
     "data": {
      "text/html": [
       "<div>\n",
       "<style scoped>\n",
       "    .dataframe tbody tr th:only-of-type {\n",
       "        vertical-align: middle;\n",
       "    }\n",
       "\n",
       "    .dataframe tbody tr th {\n",
       "        vertical-align: top;\n",
       "    }\n",
       "\n",
       "    .dataframe thead th {\n",
       "        text-align: right;\n",
       "    }\n",
       "</style>\n",
       "<table border=\"1\" class=\"dataframe\">\n",
       "  <thead>\n",
       "    <tr style=\"text-align: right;\">\n",
       "      <th></th>\n",
       "      <th>struct_info</th>\n",
       "      <th>residue_num</th>\n",
       "      <th>sequence</th>\n",
       "      <th>frequency_by_position</th>\n",
       "      <th>sum_count</th>\n",
       "      <th>sum_frequency</th>\n",
       "      <th>origin_seq</th>\n",
       "      <th>median_by_position</th>\n",
       "      <th>std_by_position</th>\n",
       "      <th>cv_by_position</th>\n",
       "      <th>identity</th>\n",
       "      <th>similarity</th>\n",
       "      <th>Blosum62_m</th>\n",
       "      <th>freq_perAA</th>\n",
       "      <th>count_perAA</th>\n",
       "    </tr>\n",
       "  </thead>\n",
       "  <tbody>\n",
       "    <tr>\n",
       "      <th>0</th>\n",
       "      <td>ackr3_human_7SK3</td>\n",
       "      <td>[1, 2, 3, 4, 5]</td>\n",
       "      <td>RRWYL</td>\n",
       "      <td>[67.0, 59.0, 100.0, 31.0, 94.0]</td>\n",
       "      <td>25.0</td>\n",
       "      <td>351.0</td>\n",
       "      <td>KPVSL</td>\n",
       "      <td>67.0</td>\n",
       "      <td>25.007199</td>\n",
       "      <td>0.373242</td>\n",
       "      <td>0.200000</td>\n",
       "      <td>0.400000</td>\n",
       "      <td>0.0</td>\n",
       "      <td>70.200000</td>\n",
       "      <td>5.000000</td>\n",
       "    </tr>\n",
       "    <tr>\n",
       "      <th>1</th>\n",
       "      <td>ackr3_human_7SK3</td>\n",
       "      <td>[1, 2, 3, 4, 5]</td>\n",
       "      <td>RRRPL</td>\n",
       "      <td>[67.0, 59.0, 62.0, 42.0, 94.0]</td>\n",
       "      <td>45.0</td>\n",
       "      <td>324.0</td>\n",
       "      <td>KPVSL</td>\n",
       "      <td>62.0</td>\n",
       "      <td>16.845177</td>\n",
       "      <td>0.271696</td>\n",
       "      <td>0.200000</td>\n",
       "      <td>0.600000</td>\n",
       "      <td>1.0</td>\n",
       "      <td>64.800000</td>\n",
       "      <td>9.000000</td>\n",
       "    </tr>\n",
       "    <tr>\n",
       "      <th>2</th>\n",
       "      <td>ackr3_human_7SK3</td>\n",
       "      <td>[1, 2, 3, 4, 5]</td>\n",
       "      <td>RVWPL</td>\n",
       "      <td>[67.0, 11.0, 100.0, 42.0, 94.0]</td>\n",
       "      <td>32.0</td>\n",
       "      <td>314.0</td>\n",
       "      <td>KPVSL</td>\n",
       "      <td>67.0</td>\n",
       "      <td>33.138497</td>\n",
       "      <td>0.494604</td>\n",
       "      <td>0.200000</td>\n",
       "      <td>0.600000</td>\n",
       "      <td>1.0</td>\n",
       "      <td>62.800000</td>\n",
       "      <td>6.400000</td>\n",
       "    </tr>\n",
       "    <tr>\n",
       "      <th>3</th>\n",
       "      <td>ackr3_human_7SK3</td>\n",
       "      <td>[1, 2, 3, 4, 5]</td>\n",
       "      <td>HRWPL</td>\n",
       "      <td>[14.0, 59.0, 100.0, 42.0, 94.0]</td>\n",
       "      <td>38.0</td>\n",
       "      <td>309.0</td>\n",
       "      <td>KPVSL</td>\n",
       "      <td>59.0</td>\n",
       "      <td>32.189439</td>\n",
       "      <td>0.545584</td>\n",
       "      <td>0.200000</td>\n",
       "      <td>0.600000</td>\n",
       "      <td>-2.0</td>\n",
       "      <td>61.800000</td>\n",
       "      <td>7.600000</td>\n",
       "    </tr>\n",
       "    <tr>\n",
       "      <th>4</th>\n",
       "      <td>ackr3_human_7SK3</td>\n",
       "      <td>[1, 2, 3, 4, 5]</td>\n",
       "      <td>RRWPR</td>\n",
       "      <td>[67.0, 59.0, 100.0, 42.0, 19.0]</td>\n",
       "      <td>30.0</td>\n",
       "      <td>287.0</td>\n",
       "      <td>KPVSL</td>\n",
       "      <td>59.0</td>\n",
       "      <td>26.911707</td>\n",
       "      <td>0.456131</td>\n",
       "      <td>0.000000</td>\n",
       "      <td>0.400000</td>\n",
       "      <td>-6.0</td>\n",
       "      <td>57.400000</td>\n",
       "      <td>6.000000</td>\n",
       "    </tr>\n",
       "    <tr>\n",
       "      <th>...</th>\n",
       "      <td>...</td>\n",
       "      <td>...</td>\n",
       "      <td>...</td>\n",
       "      <td>...</td>\n",
       "      <td>...</td>\n",
       "      <td>...</td>\n",
       "      <td>...</td>\n",
       "      <td>...</td>\n",
       "      <td>...</td>\n",
       "      <td>...</td>\n",
       "      <td>...</td>\n",
       "      <td>...</td>\n",
       "      <td>...</td>\n",
       "      <td>...</td>\n",
       "      <td>...</td>\n",
       "    </tr>\n",
       "    <tr>\n",
       "      <th>739</th>\n",
       "      <td>v2r_human_7KH0</td>\n",
       "      <td>[1, 2, 3, 4, 5, 6, 7, 8, 9]</td>\n",
       "      <td>CFFQ.CC..</td>\n",
       "      <td>[50.0, 50.0, 99.0, 33.0, 0.0, 50.0, 50.0, 0.0,...</td>\n",
       "      <td>20.0</td>\n",
       "      <td>332.0</td>\n",
       "      <td>CYFQNCPRG</td>\n",
       "      <td>50.0</td>\n",
       "      <td>30.989046</td>\n",
       "      <td>0.619781</td>\n",
       "      <td>0.444444</td>\n",
       "      <td>0.555556</td>\n",
       "      <td>20.0</td>\n",
       "      <td>36.888889</td>\n",
       "      <td>2.222222</td>\n",
       "    </tr>\n",
       "    <tr>\n",
       "      <th>740</th>\n",
       "      <td>v2r_human_7KH0</td>\n",
       "      <td>[1, 2, 3, 4, 5, 6, 7, 8, 9]</td>\n",
       "      <td>WFFQ.CC..</td>\n",
       "      <td>[15.0, 50.0, 99.0, 33.0, 0.0, 50.0, 50.0, 0.0,...</td>\n",
       "      <td>23.0</td>\n",
       "      <td>297.0</td>\n",
       "      <td>CYFQNCPRG</td>\n",
       "      <td>33.0</td>\n",
       "      <td>31.294302</td>\n",
       "      <td>0.948312</td>\n",
       "      <td>0.333333</td>\n",
       "      <td>0.444444</td>\n",
       "      <td>13.0</td>\n",
       "      <td>33.000000</td>\n",
       "      <td>2.555556</td>\n",
       "    </tr>\n",
       "    <tr>\n",
       "      <th>741</th>\n",
       "      <td>v2r_human_7R0C</td>\n",
       "      <td>[1, 2, 3, 4, 5, 6, 7, 8, 9]</td>\n",
       "      <td>CFFF.CP..</td>\n",
       "      <td>[50.0, 50.0, 32.0, 26.0, 0.0, 50.0, 12.0, 0.0,...</td>\n",
       "      <td>26.0</td>\n",
       "      <td>220.0</td>\n",
       "      <td>CYFQNCPRG</td>\n",
       "      <td>26.0</td>\n",
       "      <td>20.992650</td>\n",
       "      <td>0.807410</td>\n",
       "      <td>0.444444</td>\n",
       "      <td>0.555556</td>\n",
       "      <td>20.0</td>\n",
       "      <td>24.444444</td>\n",
       "      <td>2.888889</td>\n",
       "    </tr>\n",
       "    <tr>\n",
       "      <th>742</th>\n",
       "      <td>v2r_human_7R0C</td>\n",
       "      <td>[1, 2, 3, 4, 5, 6, 7, 8, 9]</td>\n",
       "      <td>WFFF.CP..</td>\n",
       "      <td>[15.0, 50.0, 32.0, 26.0, 0.0, 50.0, 12.0, 0.0,...</td>\n",
       "      <td>29.0</td>\n",
       "      <td>185.0</td>\n",
       "      <td>CYFQNCPRG</td>\n",
       "      <td>15.0</td>\n",
       "      <td>19.050291</td>\n",
       "      <td>1.270019</td>\n",
       "      <td>0.333333</td>\n",
       "      <td>0.444444</td>\n",
       "      <td>13.0</td>\n",
       "      <td>20.555556</td>\n",
       "      <td>3.222222</td>\n",
       "    </tr>\n",
       "    <tr>\n",
       "      <th>743</th>\n",
       "      <td>v2r_human_7R0C</td>\n",
       "      <td>[1, 2, 3, 4, 5, 6, 7, 8, 9]</td>\n",
       "      <td>CWFF.CP..</td>\n",
       "      <td>[50.0, 15.0, 32.0, 26.0, 0.0, 50.0, 12.0, 0.0,...</td>\n",
       "      <td>27.0</td>\n",
       "      <td>185.0</td>\n",
       "      <td>CYFQNCPRG</td>\n",
       "      <td>15.0</td>\n",
       "      <td>19.050291</td>\n",
       "      <td>1.270019</td>\n",
       "      <td>0.444444</td>\n",
       "      <td>0.555556</td>\n",
       "      <td>19.0</td>\n",
       "      <td>20.555556</td>\n",
       "      <td>3.000000</td>\n",
       "    </tr>\n",
       "  </tbody>\n",
       "</table>\n",
       "<p>426 rows × 15 columns</p>\n",
       "</div>"
      ],
      "text/plain": [
       "          struct_info                  residue_num   sequence  \\\n",
       "0    ackr3_human_7SK3              [1, 2, 3, 4, 5]      RRWYL   \n",
       "1    ackr3_human_7SK3              [1, 2, 3, 4, 5]      RRRPL   \n",
       "2    ackr3_human_7SK3              [1, 2, 3, 4, 5]      RVWPL   \n",
       "3    ackr3_human_7SK3              [1, 2, 3, 4, 5]      HRWPL   \n",
       "4    ackr3_human_7SK3              [1, 2, 3, 4, 5]      RRWPR   \n",
       "..                ...                          ...        ...   \n",
       "739    v2r_human_7KH0  [1, 2, 3, 4, 5, 6, 7, 8, 9]  CFFQ.CC..   \n",
       "740    v2r_human_7KH0  [1, 2, 3, 4, 5, 6, 7, 8, 9]  WFFQ.CC..   \n",
       "741    v2r_human_7R0C  [1, 2, 3, 4, 5, 6, 7, 8, 9]  CFFF.CP..   \n",
       "742    v2r_human_7R0C  [1, 2, 3, 4, 5, 6, 7, 8, 9]  WFFF.CP..   \n",
       "743    v2r_human_7R0C  [1, 2, 3, 4, 5, 6, 7, 8, 9]  CWFF.CP..   \n",
       "\n",
       "                                 frequency_by_position  sum_count  \\\n",
       "0                      [67.0, 59.0, 100.0, 31.0, 94.0]       25.0   \n",
       "1                       [67.0, 59.0, 62.0, 42.0, 94.0]       45.0   \n",
       "2                      [67.0, 11.0, 100.0, 42.0, 94.0]       32.0   \n",
       "3                      [14.0, 59.0, 100.0, 42.0, 94.0]       38.0   \n",
       "4                      [67.0, 59.0, 100.0, 42.0, 19.0]       30.0   \n",
       "..                                                 ...        ...   \n",
       "739  [50.0, 50.0, 99.0, 33.0, 0.0, 50.0, 50.0, 0.0,...       20.0   \n",
       "740  [15.0, 50.0, 99.0, 33.0, 0.0, 50.0, 50.0, 0.0,...       23.0   \n",
       "741  [50.0, 50.0, 32.0, 26.0, 0.0, 50.0, 12.0, 0.0,...       26.0   \n",
       "742  [15.0, 50.0, 32.0, 26.0, 0.0, 50.0, 12.0, 0.0,...       29.0   \n",
       "743  [50.0, 15.0, 32.0, 26.0, 0.0, 50.0, 12.0, 0.0,...       27.0   \n",
       "\n",
       "     sum_frequency origin_seq  median_by_position  std_by_position  \\\n",
       "0            351.0      KPVSL                67.0        25.007199   \n",
       "1            324.0      KPVSL                62.0        16.845177   \n",
       "2            314.0      KPVSL                67.0        33.138497   \n",
       "3            309.0      KPVSL                59.0        32.189439   \n",
       "4            287.0      KPVSL                59.0        26.911707   \n",
       "..             ...        ...                 ...              ...   \n",
       "739          332.0  CYFQNCPRG                50.0        30.989046   \n",
       "740          297.0  CYFQNCPRG                33.0        31.294302   \n",
       "741          220.0  CYFQNCPRG                26.0        20.992650   \n",
       "742          185.0  CYFQNCPRG                15.0        19.050291   \n",
       "743          185.0  CYFQNCPRG                15.0        19.050291   \n",
       "\n",
       "     cv_by_position  identity  similarity  Blosum62_m  freq_perAA  count_perAA  \n",
       "0          0.373242  0.200000    0.400000         0.0   70.200000     5.000000  \n",
       "1          0.271696  0.200000    0.600000         1.0   64.800000     9.000000  \n",
       "2          0.494604  0.200000    0.600000         1.0   62.800000     6.400000  \n",
       "3          0.545584  0.200000    0.600000        -2.0   61.800000     7.600000  \n",
       "4          0.456131  0.000000    0.400000        -6.0   57.400000     6.000000  \n",
       "..              ...       ...         ...         ...         ...          ...  \n",
       "739        0.619781  0.444444    0.555556        20.0   36.888889     2.222222  \n",
       "740        0.948312  0.333333    0.444444        13.0   33.000000     2.555556  \n",
       "741        0.807410  0.444444    0.555556        20.0   24.444444     2.888889  \n",
       "742        1.270019  0.333333    0.444444        13.0   20.555556     3.222222  \n",
       "743        1.270019  0.444444    0.555556        19.0   20.555556     3.000000  \n",
       "\n",
       "[426 rows x 15 columns]"
      ]
     },
     "execution_count": 13,
     "metadata": {},
     "output_type": "execute_result"
    }
   ],
   "source": [
    "# 2.3 Scoring and evaluation\n",
    "\n",
    "# obtain the actual amino acid sequence at the corresponding positions\n",
    "\n",
    "def extract_truth_seq(ligand_residues, query_key, query_positions):\n",
    "    if query_key not in ligand_residues:\n",
    "        return \"Query key not found in ligand residues.\"\n",
    "    \n",
    "    query_amino_acids = \"\"\n",
    "    for pos in query_positions:\n",
    "        try:\n",
    "            index = np.where(np.array(ligand_residues[query_key][\"positions\"]) == pos)[0][0]\n",
    "            query_amino_acids += ligand_residues[query_key][\"sequence\"][index]\n",
    "        except IndexError:\n",
    "#             print(f\"Warning: Position {pos} not found in {query_key}. Adding '-' as placeholder.\")\n",
    "            query_amino_acids += \"-\"\n",
    "        except Exception as e:\n",
    "            return f\"An error occurred: {str(e)}\"\n",
    "    \n",
    "    return query_amino_acids\n",
    "\n",
    "result_df['origin_seq'] = result_df.apply(lambda row: extract_truth_seq(ligand_residues, row['struct_info'], row['residue_num']), axis=1)\n",
    "\n",
    "# scoring method\n",
    "# calculating the median and standard deviation\n",
    "result_df['median_by_position'] = result_df['frequency_by_position'].apply(np.median)\n",
    "result_df['std_by_position'] = result_df['frequency_by_position'].apply(np.std)\n",
    "result_df['cv_by_position'] = result_df['std_by_position'] / result_df['median_by_position']\n",
    "\n",
    "# length of valid characters in the sequence \n",
    "def filter_condition(row):\n",
    "    valid_sequence = row['sequence'].replace('.', '')  # remove \".\"\n",
    "    valid_origin_seq = row['origin_seq'].replace('-', '')  # remove \"-\"\n",
    "    return len(valid_sequence) >= 5 and len(valid_origin_seq) >= 5\n",
    "\n",
    "filtered_df = result_df[result_df.apply(filter_condition, axis=1)]\n",
    "result_df = filtered_df.copy()\n",
    "\n",
    "# evaluation\n",
    "def compare_sequences(seq1, seq2, substitution_matrix):\n",
    "    try:\n",
    "        if len(seq1) != len(seq2):\n",
    "            raise ValueError(\"Sequence length NOT EQUAL\")\n",
    "\n",
    "        clusters = {\n",
    "            \"STAGP\": set(\"STAGP\"),\n",
    "            \"DEQN\": set(\"DEQN\"),\n",
    "            \"HRK\": set(\"HRK\"),\n",
    "            \"MILV\": set(\"MILV\"),\n",
    "            \"WFY\": set(\"WFY\"),\n",
    "            \"LFI\": set(\"LFI\"),\n",
    "            \"FHY\": set(\"FHY\")\n",
    "        }\n",
    "\n",
    "        identity_score = 0\n",
    "        similarity_score = 0\n",
    "        Blosum62_score = 0\n",
    "        \n",
    "        for a, b in zip(seq1, seq2):\n",
    "            if a in ['-', '.'] or b in ['-', '.','X']:    # b indicates seq2 \n",
    "                continue  \n",
    "\n",
    "            if a == b:\n",
    "                identity_score += 1\n",
    "                similarity_score += 1\n",
    "            else:\n",
    "                for cluster in clusters.values():\n",
    "                    if a in cluster and b in cluster:\n",
    "                        similarity_score += 1\n",
    "                        break\n",
    "\n",
    "            if (a, b) in substitution_matrix:\n",
    "                Blosum62_score += substitution_matrix[a, b]\n",
    "            else:\n",
    "                raise KeyError(f\"Substitution matrix missing value for pair: ({a}, {b})\")\n",
    "\n",
    "        seq_length = len(seq2.replace(\"X\", \"\"))  # Using the length WITHOUT X of seq2 for calculation\n",
    "\n",
    "        return (\n",
    "            identity_score / seq_length,\n",
    "            similarity_score / seq_length,\n",
    "            Blosum62_score\n",
    "        )\n",
    "\n",
    "\n",
    "    except ValueError as ve:\n",
    "        print(ve)\n",
    "        return None, None, None\n",
    "    except KeyError as ke:\n",
    "        print(f\"Error: No key in substitution matrix {ke}\")\n",
    "        return None, None, None\n",
    "\n",
    "# modify the Blosum62 matrix   \n",
    "from Bio.Align import substitution_matrices\n",
    "substitution_matrix = substitution_matrices.load('BLOSUM62') \n",
    "# change the diagonal value to 5 for specified amino acids\n",
    "amino_acids = 'CSTPAGNDEQHRKMILVFYW'\n",
    "for aa in amino_acids:\n",
    "    substitution_matrix[aa, aa] = 5\n",
    "    \n",
    "# scores for 'X' against all amino acids to 0\n",
    "for aa in amino_acids:\n",
    "    substitution_matrix['X', aa] = 0\n",
    "    substitution_matrix[aa, 'X'] = 0\n",
    "\n",
    "final_tab = result_df.copy()\n",
    "final_tab[['identity', 'similarity',\"Blosum62_m\"]] = final_tab.apply(\n",
    "    lambda x: compare_sequences(x['sequence'], x['origin_seq'],substitution_matrix), \n",
    "    axis=1, result_type=\"expand\"\n",
    ")\n",
    "\n",
    "final_tab[\"freq_perAA\"] = final_tab.apply(\n",
    "    lambda x: x[\"sum_frequency\"] / len(x[\"sequence\"]) if len(x[\"sequence\"]) > 0 else 0, axis=1)\n",
    "final_tab[\"count_perAA\"] = final_tab.apply(\n",
    "    lambda x: x[\"sum_count\"] / len(x[\"sequence\"]) if len(x[\"sequence\"]) > 0 else 0, axis=1)\n",
    "\n",
    "validation_table = final_tab[~final_tab['origin_seq'].str.contains('X')].copy()\n",
    "validation_table"
   ]
  },
  {
   "cell_type": "markdown",
   "id": "3641ed5c",
   "metadata": {},
   "source": [
    "# Part3: Prediction "
   ]
  },
  {
   "cell_type": "code",
   "execution_count": 15,
   "id": "7eb52410",
   "metadata": {},
   "outputs": [],
   "source": [
    "# 3.1 Require functions\n",
    "\n",
    "def generate_permutations(toptwofreqAA, backbone):\n",
    "    # determine the starting and ending residue numbers from the input data\n",
    "    starting_backbone_residue_number = toptwofreqAA['residue_number'].min()\n",
    "    ending_backbone_residue_number = toptwofreqAA['residue_number'].max()\n",
    "    \n",
    "    # check for missing positions and add '.' for missing residues\n",
    "    for i in range(starting_backbone_residue_number, ending_backbone_residue_number + 1):  \n",
    "        if i not in toptwofreqAA['residue_number'].values:\n",
    "            new_row = {'residue_number': i, 'peptide_amino_acid': '.', 'frequency(%)': 0, 'count': 0}\n",
    "            toptwofreqAA = toptwofreqAA.append(new_row, ignore_index=True)\n",
    "\n",
    "    toptwofreqAA = toptwofreqAA.sort_values([\"residue_number\", \"frequency(%)\"], ascending=[True, False]).copy()\n",
    "\n",
    "    grouped = toptwofreqAA.groupby('residue_number')\n",
    "    position_data = {residue_number: group[['peptide_amino_acid', 'frequency(%)', 'count']].values.tolist() for residue_number, group in grouped}\n",
    "\n",
    "    start_key = min(position_data.keys())\n",
    "\n",
    "    # Step 1: generate unique combinations\n",
    "    base_combination_chars = [chars[0][0] for chars in position_data.values()]\n",
    "    unique_combinations = []\n",
    "\n",
    "    for position, base_char in enumerate(base_combination_chars):\n",
    "        current_combination = base_combination_chars.copy()\n",
    "        if len(position_data[start_key + position]) > 1:\n",
    "            current_combination[position] = position_data[start_key + position][1][0]\n",
    "        combination_str = ''.join(current_combination)\n",
    "        if combination_str not in unique_combinations:\n",
    "            unique_combinations.append(combination_str)\n",
    "\n",
    "    # Step 2: retrieve frequency for every position in unique combination\n",
    "    def get_scores_for_combination(combination_str):\n",
    "        char_scores = []\n",
    "        for index, char in enumerate(combination_str):\n",
    "            for char_info in position_data[start_key + index]:\n",
    "                if char_info[0] == char:\n",
    "                    char_scores.append(char_info[1])\n",
    "                    break\n",
    "        return char_scores\n",
    "\n",
    "    scores_for_each_combination = {combination: get_scores_for_combination(combination) for combination in unique_combinations}\n",
    "\n",
    "    # Step 3: calculate exact count sum for each combination\n",
    "    integrated_results = []\n",
    "\n",
    "    for combination, scores in scores_for_each_combination.items():\n",
    "        exact_score_sum = sum(position_data[start_key + i][0][2] if position_data[start_key + i][0][0] == char else position_data[start_key + i][1][2] for i, char in enumerate(combination))\n",
    "        integrated_results.append((combination, scores, exact_score_sum))\n",
    "\n",
    "    # creating a DataFrame from the combinations with frequency and count sum\n",
    "    result_df = pd.DataFrame(integrated_results, columns=['sequence', 'frequency_by_position', 'sum_count'])\n",
    "    residue_num = list(range(starting_backbone_residue_number, ending_backbone_residue_number + 1))\n",
    "\n",
    "    # convert the result to a DataFrame and rearrange columns\n",
    "    result_df[\"residue_num\"] = [residue_num] * len(result_df)\n",
    "    result_df[\"struct_info\"] = backbone\n",
    "\n",
    "    col = result_df.pop('struct_info')\n",
    "    result_df.insert(loc=0, column='struct_info', value=col)\n",
    "    col_2 = result_df.pop('residue_num')\n",
    "    result_df.insert(loc=1, column='residue_num', value=col_2)\n",
    "    result_df[\"sum_frequency\"] = result_df['frequency_by_position'].apply(sum)\n",
    "    result_df = result_df.sort_values(\"sum_frequency\", ascending=False).reset_index(drop=True)\n",
    "    \n",
    "    return result_df\n",
    "\n",
    "def merge_permutation_results(toptwofreqAA, backbone):\n",
    "    merged_df = generate_permutations(toptwofreqAA, backbone)\n",
    "    \n",
    "    return merged_df"
   ]
  },
  {
   "cell_type": "code",
   "execution_count": 16,
   "id": "2084f448",
   "metadata": {},
   "outputs": [
    {
     "name": "stderr",
     "output_type": "stream",
     "text": [
      "Processing files:   0%|                                                                         | 0/20 [00:00<?, ?it/s]"
     ]
    },
    {
     "name": "stdout",
     "output_type": "stream",
     "text": [
      "Warning! GLY found in RECEPTOR sequence\n",
      "\n"
     ]
    },
    {
     "name": "stderr",
     "output_type": "stream",
     "text": [
      "Processing files:   5%|███▎                                                             | 1/20 [00:01<00:25,  1.36s/it]"
     ]
    },
    {
     "name": "stdout",
     "output_type": "stream",
     "text": [
      "Warning! GLY found in RECEPTOR sequence\n",
      "\n"
     ]
    },
    {
     "name": "stderr",
     "output_type": "stream",
     "text": [
      "Processing files:  10%|██████▌                                                          | 2/20 [00:02<00:19,  1.06s/it]"
     ]
    },
    {
     "name": "stdout",
     "output_type": "stream",
     "text": [
      "Warning! GLY found in RECEPTOR sequence\n",
      "\n"
     ]
    },
    {
     "name": "stderr",
     "output_type": "stream",
     "text": [
      "Processing files:  15%|█████████▊                                                       | 3/20 [00:03<00:21,  1.24s/it]"
     ]
    },
    {
     "name": "stdout",
     "output_type": "stream",
     "text": [
      "Warning! GLY found in RECEPTOR sequence\n",
      "\n"
     ]
    },
    {
     "name": "stderr",
     "output_type": "stream",
     "text": [
      "Processing files:  20%|█████████████                                                    | 4/20 [00:04<00:17,  1.07s/it]"
     ]
    },
    {
     "name": "stdout",
     "output_type": "stream",
     "text": [
      "Warning! GLY found in RECEPTOR sequence\n",
      "\n"
     ]
    },
    {
     "name": "stderr",
     "output_type": "stream",
     "text": [
      "Processing files:  25%|████████████████▎                                                | 5/20 [00:05<00:14,  1.04it/s]"
     ]
    },
    {
     "name": "stdout",
     "output_type": "stream",
     "text": [
      "Warning! GLY found in RECEPTOR sequence\n",
      "\n"
     ]
    },
    {
     "name": "stderr",
     "output_type": "stream",
     "text": [
      "Processing files:  30%|███████████████████▌                                             | 6/20 [00:06<00:13,  1.02it/s]"
     ]
    },
    {
     "name": "stdout",
     "output_type": "stream",
     "text": [
      "Warning! GLY found in RECEPTOR sequence\n",
      "\n"
     ]
    },
    {
     "name": "stderr",
     "output_type": "stream",
     "text": [
      "Processing files:  35%|██████████████████████▊                                          | 7/20 [00:08<00:15,  1.23s/it]"
     ]
    },
    {
     "name": "stdout",
     "output_type": "stream",
     "text": [
      "Warning! GLY found in RECEPTOR sequence\n",
      "\n"
     ]
    },
    {
     "name": "stderr",
     "output_type": "stream",
     "text": [
      "Processing files:  40%|██████████████████████████                                       | 8/20 [00:08<00:13,  1.10s/it]"
     ]
    },
    {
     "name": "stdout",
     "output_type": "stream",
     "text": [
      "Warning! GLY found in RECEPTOR sequence\n",
      "\n"
     ]
    },
    {
     "name": "stderr",
     "output_type": "stream",
     "text": [
      "Processing files:  45%|█████████████████████████████▎                                   | 9/20 [00:09<00:11,  1.04s/it]"
     ]
    },
    {
     "name": "stdout",
     "output_type": "stream",
     "text": [
      "Warning! GLY found in RECEPTOR sequence\n",
      "\n"
     ]
    },
    {
     "name": "stderr",
     "output_type": "stream",
     "text": [
      "Processing files:  50%|████████████████████████████████                                | 10/20 [00:10<00:09,  1.01it/s]"
     ]
    },
    {
     "name": "stdout",
     "output_type": "stream",
     "text": [
      "An error occurred during the analysis for 7F8V_gp107_human_1, gp107_human: All predicted residue out of the range requirement for CA and CB\n",
      "Warning! GLY found in RECEPTOR sequence\n",
      "\n"
     ]
    },
    {
     "name": "stderr",
     "output_type": "stream",
     "text": [
      "Processing files:  55%|███████████████████████████████████▏                            | 11/20 [00:12<00:10,  1.16s/it]"
     ]
    },
    {
     "name": "stdout",
     "output_type": "stream",
     "text": [
      "An error occurred during the analysis for 7XBX_gpr26_human_1, gpr26_human: All predicted residue out of the range requirement for CA and CB\n",
      "Warning! GLY found in RECEPTOR sequence\n",
      "\n"
     ]
    },
    {
     "name": "stderr",
     "output_type": "stream",
     "text": [
      "Processing files:  60%|██████████████████████████████████████▍                         | 12/20 [00:13<00:08,  1.10s/it]"
     ]
    },
    {
     "name": "stdout",
     "output_type": "stream",
     "text": [
      "Warning! GLY found in RECEPTOR sequence\n",
      "\n"
     ]
    },
    {
     "name": "stderr",
     "output_type": "stream",
     "text": [
      "Processing files:  65%|█████████████████████████████████████████▌                      | 13/20 [00:13<00:06,  1.01it/s]"
     ]
    },
    {
     "name": "stdout",
     "output_type": "stream",
     "text": [
      "Warning! GLY found in RECEPTOR sequence\n",
      "\n"
     ]
    },
    {
     "name": "stderr",
     "output_type": "stream",
     "text": [
      "Processing files:  70%|████████████████████████████████████████████▊                   | 14/20 [00:15<00:07,  1.28s/it]"
     ]
    },
    {
     "name": "stdout",
     "output_type": "stream",
     "text": [
      "An error occurred during the analysis for 7VLA_gp135_human_2, gp135_human: All predicted residue out of the range requirement for CA and CB\n",
      "Warning! GLY found in RECEPTOR sequence\n",
      "\n"
     ]
    },
    {
     "name": "stderr",
     "output_type": "stream",
     "text": [
      "Processing files:  75%|████████████████████████████████████████████████                | 15/20 [00:17<00:07,  1.41s/it]"
     ]
    },
    {
     "name": "stdout",
     "output_type": "stream",
     "text": [
      "An error occurred during the analysis for 7VLA_gp135_human_2, gp135_human: All predicted residue out of the range requirement for CA and CB\n",
      "Warning! GLY found in RECEPTOR sequence\n",
      "\n"
     ]
    },
    {
     "name": "stderr",
     "output_type": "stream",
     "text": [
      "Processing files:  80%|███████████████████████████████████████████████████▏            | 16/20 [00:18<00:05,  1.29s/it]"
     ]
    },
    {
     "name": "stdout",
     "output_type": "stream",
     "text": [
      "An error occurred during the analysis for 7P02_mas1l_human_1, mas1l_human: All predicted residue out of the range requirement for CA and CB\n",
      "Warning! GLY found in RECEPTOR sequence\n",
      "\n"
     ]
    },
    {
     "name": "stderr",
     "output_type": "stream",
     "text": [
      "Processing files:  85%|██████████████████████████████████████████████████████▍         | 17/20 [00:19<00:03,  1.17s/it]"
     ]
    },
    {
     "name": "stdout",
     "output_type": "stream",
     "text": [
      "Warning! GLY found in RECEPTOR sequence\n",
      "\n"
     ]
    },
    {
     "name": "stderr",
     "output_type": "stream",
     "text": [
      "Processing files:  90%|█████████████████████████████████████████████████████████▌      | 18/20 [00:20<00:02,  1.25s/it]"
     ]
    },
    {
     "name": "stdout",
     "output_type": "stream",
     "text": [
      "Warning! GLY found in RECEPTOR sequence\n",
      "\n"
     ]
    },
    {
     "name": "stderr",
     "output_type": "stream",
     "text": [
      "Processing files:  95%|████████████████████████████████████████████████████████████▊   | 19/20 [00:21<00:01,  1.09s/it]"
     ]
    },
    {
     "name": "stdout",
     "output_type": "stream",
     "text": [
      "Warning! GLY found in RECEPTOR sequence\n",
      "\n"
     ]
    },
    {
     "name": "stderr",
     "output_type": "stream",
     "text": [
      "Processing files: 100%|████████████████████████████████████████████████████████████████| 20/20 [00:22<00:00,  1.13s/it]"
     ]
    },
    {
     "name": "stdout",
     "output_type": "stream",
     "text": [
      "An error occurred during the analysis for 8F7Q_o51d1_human_1, o51d1_human: All predicted residue out of the range requirement for CA and CB\n"
     ]
    },
    {
     "name": "stderr",
     "output_type": "stream",
     "text": [
      "\n"
     ]
    }
   ],
   "source": [
    "# 3.2 Implementation\n",
    "file_list = ['7F1T_aa2ar_human_1.pdb',\n",
    " '7WVY_gpr62_human_1.pdb',\n",
    " '7F1T_aa2br_human_1.pdb',\n",
    " '7WVY_gpr52_human_1.pdb',\n",
    " '7XBX_gpr61_human_1.pdb',\n",
    " '7XBX_5ht7r_human_1.pdb',\n",
    " '7XBX_gp161_human_1.pdb',\n",
    " '7W0O_gasr_human_2.pdb',\n",
    " '8F7X_gpr78_human_1.pdb',\n",
    " '7F8V_gp107_human_1.pdb',\n",
    " '7XBX_gpr26_human_1.pdb',\n",
    " '7W0O_5ht2a_human_1.pdb',\n",
    " '8DWC_par2_human_1.pdb',\n",
    " '7VLA_gp135_human_2.pdb',\n",
    " '7VLA_gp135_human_2.pdb',\n",
    " '7P02_mas1l_human_1.pdb',\n",
    " '6JOD_aa1r_human_1.pdb',\n",
    " '7F1T_aa1r_human_1.pdb',\n",
    " '7F53_c5ar2_human_1.pdb',\n",
    " '8F7Q_o51d1_human_1.pdb']\n",
    "\n",
    "\n",
    "# original oprd_human_4RWD.pdb\n",
    "backbones = [] # oprd_human_4RWD\n",
    "receptors = [] # oprd_human\n",
    "\n",
    "for item in file_list:\n",
    "    parts = item.split('_')\n",
    "    backbone = item[:-4]   \n",
    "    receptor = item[5:-6]   \n",
    "    \n",
    "    backbones.append(backbone)\n",
    "    receptors.append(receptor)\n",
    "\n",
    "\n",
    "from biopandas.pdb import PandasPdb\n",
    "import requests\n",
    "import pandas as pd\n",
    "\n",
    "results_list = []\n",
    "ligand_residues = {}\n",
    "\n",
    "for i in tqdm(range(len(file_list)), desc=\"Processing files\"):\n",
    "    backbone = backbones[i]\n",
    "    entry_name = receptors[i]\n",
    "    process_success = True  \n",
    "\n",
    "\n",
    "    try:\n",
    "\n",
    "        inference_data = PandasPdb().read_pdb(f\"D:\\\\GloriamGroup Dropbox\\\\Sun Yifan\\\\Yifan_peptide_project\\\\Data\\\\Superimposed_structures_6Dec_ALA\\\\{backbone}.pdb\")\n",
    "        # check if there are any values in the 'insertion' column\n",
    "        if (inference_data.df['ATOM']['insertion'].notnull() & (inference_data.df['ATOM']['insertion'] != '')).any():\n",
    "            print('Warning: (Insertion Code) \"insertion\" column contains non-empty, non-null values!')\n",
    "\n",
    "        # check if there are any values in the 'insertion' column\n",
    "        if (inference_data.df['HETATM']['insertion'].notnull() & (inference_data.df['HETATM']['insertion'] != '')).any():\n",
    "            print('Warning : (Insertion Code) \"insertion\" column contains non-empty, non-null values!') \n",
    "        # only for nature residues\n",
    "        df_1 = inference_data.df['ATOM']\n",
    "        group_keys = ['atom_name', 'residue_name', 'chain_id', 'residue_number']\n",
    "        sorted_data = df_1.sort_values(by=['occupancy', 'b_factor'], ascending=[False, True])\n",
    "        df_1 = sorted_data.drop_duplicates(subset=group_keys, keep='first').copy()\n",
    "\n",
    "        # also include unnature residues \"X\"\n",
    "        df_2 = inference_data.df['HETATM']\n",
    "        df_2.loc[:,\"residue_name\"] = 'X'\n",
    "        sorted_data_2 = df_2.sort_values(by=['occupancy', 'b_factor'], ascending=[False, True])\n",
    "        df_2 = sorted_data_2.drop_duplicates(subset=group_keys, keep='first').copy()\n",
    "\n",
    "        inference_df = pd.concat([df_1, df_2])\n",
    "        inference_df = inference_df[[\"atom_name\", \"residue_name\", \"chain_id\", \"residue_number\", \"x_coord\", \"y_coord\", \"z_coord\"]].copy()\n",
    "    \n",
    "        inference_df = inference_df.sort_values(by=[\"residue_number\"])\n",
    "        ligand = inference_df[(inference_df[\"chain_id\"] == \"B\") & (inference_df[\"atom_name\"] == \"CA\")]\n",
    "        if ligand.empty:\n",
    "            raise ValueError(\"No peptide column in the structural file\")\n",
    "        \n",
    "        ligand = ligand.copy()\n",
    "        ligand.loc[:, 'residue_name'] = ligand['residue_name'].map(amino_acids_dict)\n",
    "        ligand_unique = ligand.drop_duplicates(subset=['residue_number'], keep='first')\n",
    "\n",
    "        ligand_sequence = ''.join(ligand_unique.loc[:,\"residue_name\"].tolist()) \n",
    "        ligand_positions = np.array(ligand_unique[\"residue_number\"].tolist())\n",
    "        \n",
    "        ligand_residues[backbone] = {\n",
    "            'sequence': ligand_sequence,\n",
    "            'positions': ligand_positions\n",
    "        }\n",
    "        \n",
    "        url_2 = f\"https://gpcrdb.org/services/residues/{entry_name}/\"\n",
    "        response_2 = requests.get(url_2)\n",
    "        response_2.raise_for_status()  \n",
    "        df_protein_residue = pd.DataFrame(response_2.json())\n",
    "        df_protein_residue = df_protein_residue[[\"sequence_number\", \"display_generic_number\"]]\n",
    "        df_protein_residue = df_protein_residue.rename(columns={\"sequence_number\": \"residue_number\"})\n",
    "    except Exception as e:\n",
    "        print(f\"Error occurred while initializing data for {backbone}, {entry_name}: {e}\")\n",
    "        process_success = False\n",
    "        \n",
    "    if process_success:\n",
    "        try:\n",
    "            ligand_atoms, receptor_atoms, receptor_atoms_CA, ligand_atoms_CA, merged = pre_treatment(inference_df, df_protein_residue)\n",
    "            Ca_Ca_distance = calculate_CaCa_distance(receptor_atoms_CA, ligand_atoms_CA)\n",
    "            angle = calculate_CaCb_angle(ligand_atoms, receptor_atoms, merged)\n",
    "            toptwofreqAA = prediction_ligands(Ca_Ca_distance, angle, reference_GPCR)\n",
    "            if toptwofreqAA.empty:\n",
    "                    raise ValueError(\"All predicted residue out of the range requirement for CA and CB\")\n",
    "            \n",
    "            result = merge_permutation_results(toptwofreqAA, backbone)\n",
    "            results_list.append(result)\n",
    "\n",
    "        except Exception as e:\n",
    "            print(f\"An error occurred during the analysis for {backbone}, {entry_name}: {e}\")\n",
    "\n",
    "result_df = pd.concat(results_list, ignore_index=True)"
   ]
  },
  {
   "cell_type": "code",
   "execution_count": 20,
   "id": "dc0b2b9a",
   "metadata": {},
   "outputs": [
    {
     "data": {
      "text/html": [
       "<div>\n",
       "<style scoped>\n",
       "    .dataframe tbody tr th:only-of-type {\n",
       "        vertical-align: middle;\n",
       "    }\n",
       "\n",
       "    .dataframe tbody tr th {\n",
       "        vertical-align: top;\n",
       "    }\n",
       "\n",
       "    .dataframe thead th {\n",
       "        text-align: right;\n",
       "    }\n",
       "</style>\n",
       "<table border=\"1\" class=\"dataframe\">\n",
       "  <thead>\n",
       "    <tr style=\"text-align: right;\">\n",
       "      <th></th>\n",
       "      <th>struct_info</th>\n",
       "      <th>residue_num</th>\n",
       "      <th>sequence</th>\n",
       "      <th>frequency_by_position</th>\n",
       "      <th>sum_count</th>\n",
       "      <th>sum_frequency</th>\n",
       "      <th>origin_seq</th>\n",
       "      <th>median_by_position</th>\n",
       "      <th>std_by_position</th>\n",
       "      <th>cv_by_position</th>\n",
       "      <th>freq_perAA</th>\n",
       "      <th>count_perAA</th>\n",
       "    </tr>\n",
       "  </thead>\n",
       "  <tbody>\n",
       "    <tr>\n",
       "      <th>7</th>\n",
       "      <td>7F1T_aa2br_human_1</td>\n",
       "      <td>[-93, -92, -91, -90, -89]</td>\n",
       "      <td>LYVYC</td>\n",
       "      <td>[12.0, 38.0, 7.0, 33.0, 25.0]</td>\n",
       "      <td>15.0</td>\n",
       "      <td>115.0</td>\n",
       "      <td>AAAAA</td>\n",
       "      <td>25.0</td>\n",
       "      <td>11.882761</td>\n",
       "      <td>0.475310</td>\n",
       "      <td>23.000000</td>\n",
       "      <td>3.000000</td>\n",
       "    </tr>\n",
       "    <tr>\n",
       "      <th>8</th>\n",
       "      <td>7F1T_aa2br_human_1</td>\n",
       "      <td>[-93, -92, -91, -90, -89]</td>\n",
       "      <td>DYVYC</td>\n",
       "      <td>[12.0, 38.0, 7.0, 33.0, 25.0]</td>\n",
       "      <td>15.0</td>\n",
       "      <td>115.0</td>\n",
       "      <td>AAAAA</td>\n",
       "      <td>25.0</td>\n",
       "      <td>11.882761</td>\n",
       "      <td>0.475310</td>\n",
       "      <td>23.000000</td>\n",
       "      <td>3.000000</td>\n",
       "    </tr>\n",
       "    <tr>\n",
       "      <th>9</th>\n",
       "      <td>7F1T_aa2br_human_1</td>\n",
       "      <td>[-93, -92, -91, -90, -89]</td>\n",
       "      <td>DTVYC</td>\n",
       "      <td>[12.0, 25.0, 7.0, 33.0, 25.0]</td>\n",
       "      <td>12.0</td>\n",
       "      <td>102.0</td>\n",
       "      <td>AAAAA</td>\n",
       "      <td>25.0</td>\n",
       "      <td>9.499474</td>\n",
       "      <td>0.379979</td>\n",
       "      <td>20.400000</td>\n",
       "      <td>2.400000</td>\n",
       "    </tr>\n",
       "    <tr>\n",
       "      <th>10</th>\n",
       "      <td>7F1T_aa2br_human_1</td>\n",
       "      <td>[-93, -92, -91, -90, -89]</td>\n",
       "      <td>DYVLC</td>\n",
       "      <td>[12.0, 38.0, 7.0, 12.0, 25.0]</td>\n",
       "      <td>15.0</td>\n",
       "      <td>94.0</td>\n",
       "      <td>AAAAA</td>\n",
       "      <td>12.0</td>\n",
       "      <td>11.303097</td>\n",
       "      <td>0.941925</td>\n",
       "      <td>18.800000</td>\n",
       "      <td>3.000000</td>\n",
       "    </tr>\n",
       "    <tr>\n",
       "      <th>25</th>\n",
       "      <td>8F7X_gpr78_human_1</td>\n",
       "      <td>[2, 3, 4, 5, 6, 7]</td>\n",
       "      <td>RL.KDK</td>\n",
       "      <td>[140.0, 14.0, 0.0, 43.0, 19.0, 43.0]</td>\n",
       "      <td>19.0</td>\n",
       "      <td>259.0</td>\n",
       "      <td>AAAAAA</td>\n",
       "      <td>31.0</td>\n",
       "      <td>45.961639</td>\n",
       "      <td>1.482634</td>\n",
       "      <td>43.166667</td>\n",
       "      <td>3.166667</td>\n",
       "    </tr>\n",
       "    <tr>\n",
       "      <th>26</th>\n",
       "      <td>8F7X_gpr78_human_1</td>\n",
       "      <td>[2, 3, 4, 5, 6, 7]</td>\n",
       "      <td>RL.SDK</td>\n",
       "      <td>[140.0, 14.0, 0.0, 40.0, 19.0, 43.0]</td>\n",
       "      <td>18.0</td>\n",
       "      <td>256.0</td>\n",
       "      <td>AAAAAA</td>\n",
       "      <td>29.5</td>\n",
       "      <td>45.977047</td>\n",
       "      <td>1.558544</td>\n",
       "      <td>42.666667</td>\n",
       "      <td>3.000000</td>\n",
       "    </tr>\n",
       "    <tr>\n",
       "      <th>27</th>\n",
       "      <td>8F7X_gpr78_human_1</td>\n",
       "      <td>[2, 3, 4, 5, 6, 7]</td>\n",
       "      <td>RI.KDK</td>\n",
       "      <td>[140.0, 6.0, 0.0, 43.0, 19.0, 43.0]</td>\n",
       "      <td>16.0</td>\n",
       "      <td>251.0</td>\n",
       "      <td>AAAAAA</td>\n",
       "      <td>31.0</td>\n",
       "      <td>46.894977</td>\n",
       "      <td>1.512741</td>\n",
       "      <td>41.833333</td>\n",
       "      <td>2.666667</td>\n",
       "    </tr>\n",
       "    <tr>\n",
       "      <th>28</th>\n",
       "      <td>7W0O_5ht2a_human_1</td>\n",
       "      <td>[28, 29, 30, 31, 32]</td>\n",
       "      <td>HAKWM</td>\n",
       "      <td>[60.0, 18.0, 33.0, 67.0, 6.0]</td>\n",
       "      <td>14.0</td>\n",
       "      <td>184.0</td>\n",
       "      <td>AAAAA</td>\n",
       "      <td>33.0</td>\n",
       "      <td>23.523605</td>\n",
       "      <td>0.712837</td>\n",
       "      <td>36.800000</td>\n",
       "      <td>2.800000</td>\n",
       "    </tr>\n",
       "    <tr>\n",
       "      <th>29</th>\n",
       "      <td>7W0O_5ht2a_human_1</td>\n",
       "      <td>[28, 29, 30, 31, 32]</td>\n",
       "      <td>HFKWM</td>\n",
       "      <td>[60.0, 17.0, 33.0, 67.0, 6.0]</td>\n",
       "      <td>17.0</td>\n",
       "      <td>183.0</td>\n",
       "      <td>AAAAA</td>\n",
       "      <td>33.0</td>\n",
       "      <td>23.686283</td>\n",
       "      <td>0.717766</td>\n",
       "      <td>36.600000</td>\n",
       "      <td>3.400000</td>\n",
       "    </tr>\n",
       "    <tr>\n",
       "      <th>30</th>\n",
       "      <td>7W0O_5ht2a_human_1</td>\n",
       "      <td>[28, 29, 30, 31, 32]</td>\n",
       "      <td>HAFWM</td>\n",
       "      <td>[60.0, 18.0, 29.0, 67.0, 6.0]</td>\n",
       "      <td>15.0</td>\n",
       "      <td>180.0</td>\n",
       "      <td>AAAAA</td>\n",
       "      <td>29.0</td>\n",
       "      <td>23.706539</td>\n",
       "      <td>0.817467</td>\n",
       "      <td>36.000000</td>\n",
       "      <td>3.000000</td>\n",
       "    </tr>\n",
       "    <tr>\n",
       "      <th>31</th>\n",
       "      <td>7W0O_5ht2a_human_1</td>\n",
       "      <td>[28, 29, 30, 31, 32]</td>\n",
       "      <td>HAKFM</td>\n",
       "      <td>[60.0, 18.0, 33.0, 33.0, 6.0]</td>\n",
       "      <td>16.0</td>\n",
       "      <td>150.0</td>\n",
       "      <td>AAAAA</td>\n",
       "      <td>33.0</td>\n",
       "      <td>18.099724</td>\n",
       "      <td>0.548476</td>\n",
       "      <td>30.000000</td>\n",
       "      <td>3.200000</td>\n",
       "    </tr>\n",
       "    <tr>\n",
       "      <th>32</th>\n",
       "      <td>7W0O_5ht2a_human_1</td>\n",
       "      <td>[28, 29, 30, 31, 32]</td>\n",
       "      <td>VAKWM</td>\n",
       "      <td>[12.0, 18.0, 33.0, 67.0, 6.0]</td>\n",
       "      <td>13.0</td>\n",
       "      <td>136.0</td>\n",
       "      <td>AAAAA</td>\n",
       "      <td>18.0</td>\n",
       "      <td>21.830254</td>\n",
       "      <td>1.212792</td>\n",
       "      <td>27.200000</td>\n",
       "      <td>2.600000</td>\n",
       "    </tr>\n",
       "    <tr>\n",
       "      <th>35</th>\n",
       "      <td>6JOD_aa1r_human_1</td>\n",
       "      <td>[3, 4, 5, 6, 7, 8]</td>\n",
       "      <td>FFDYYY</td>\n",
       "      <td>[17.0, 17.0, 12.0, 38.0, 38.0, 38.0]</td>\n",
       "      <td>32.0</td>\n",
       "      <td>160.0</td>\n",
       "      <td>AAAAAA</td>\n",
       "      <td>27.5</td>\n",
       "      <td>11.455227</td>\n",
       "      <td>0.416554</td>\n",
       "      <td>26.666667</td>\n",
       "      <td>5.333333</td>\n",
       "    </tr>\n",
       "    <tr>\n",
       "      <th>36</th>\n",
       "      <td>6JOD_aa1r_human_1</td>\n",
       "      <td>[3, 4, 5, 6, 7, 8]</td>\n",
       "      <td>LFDYYY</td>\n",
       "      <td>[14.0, 17.0, 12.0, 38.0, 38.0, 38.0]</td>\n",
       "      <td>31.0</td>\n",
       "      <td>157.0</td>\n",
       "      <td>AAAAAA</td>\n",
       "      <td>27.5</td>\n",
       "      <td>11.922202</td>\n",
       "      <td>0.433535</td>\n",
       "      <td>26.166667</td>\n",
       "      <td>5.166667</td>\n",
       "    </tr>\n",
       "    <tr>\n",
       "      <th>37</th>\n",
       "      <td>6JOD_aa1r_human_1</td>\n",
       "      <td>[3, 4, 5, 6, 7, 8]</td>\n",
       "      <td>FLDYYY</td>\n",
       "      <td>[17.0, 14.0, 12.0, 38.0, 38.0, 38.0]</td>\n",
       "      <td>31.0</td>\n",
       "      <td>157.0</td>\n",
       "      <td>AAAAAA</td>\n",
       "      <td>27.5</td>\n",
       "      <td>11.922202</td>\n",
       "      <td>0.433535</td>\n",
       "      <td>26.166667</td>\n",
       "      <td>5.166667</td>\n",
       "    </tr>\n",
       "    <tr>\n",
       "      <th>38</th>\n",
       "      <td>6JOD_aa1r_human_1</td>\n",
       "      <td>[3, 4, 5, 6, 7, 8]</td>\n",
       "      <td>FFDYYA</td>\n",
       "      <td>[17.0, 17.0, 12.0, 38.0, 38.0, 21.0]</td>\n",
       "      <td>30.0</td>\n",
       "      <td>143.0</td>\n",
       "      <td>AAAAAA</td>\n",
       "      <td>19.0</td>\n",
       "      <td>10.350792</td>\n",
       "      <td>0.544779</td>\n",
       "      <td>23.833333</td>\n",
       "      <td>5.000000</td>\n",
       "    </tr>\n",
       "    <tr>\n",
       "      <th>39</th>\n",
       "      <td>6JOD_aa1r_human_1</td>\n",
       "      <td>[3, 4, 5, 6, 7, 8]</td>\n",
       "      <td>FFDIYY</td>\n",
       "      <td>[17.0, 17.0, 12.0, 19.0, 38.0, 38.0]</td>\n",
       "      <td>31.0</td>\n",
       "      <td>141.0</td>\n",
       "      <td>AAAAAA</td>\n",
       "      <td>18.0</td>\n",
       "      <td>10.468206</td>\n",
       "      <td>0.581567</td>\n",
       "      <td>23.500000</td>\n",
       "      <td>5.166667</td>\n",
       "    </tr>\n",
       "  </tbody>\n",
       "</table>\n",
       "</div>"
      ],
      "text/plain": [
       "           struct_info                residue_num sequence  \\\n",
       "7   7F1T_aa2br_human_1  [-93, -92, -91, -90, -89]    LYVYC   \n",
       "8   7F1T_aa2br_human_1  [-93, -92, -91, -90, -89]    DYVYC   \n",
       "9   7F1T_aa2br_human_1  [-93, -92, -91, -90, -89]    DTVYC   \n",
       "10  7F1T_aa2br_human_1  [-93, -92, -91, -90, -89]    DYVLC   \n",
       "25  8F7X_gpr78_human_1         [2, 3, 4, 5, 6, 7]   RL.KDK   \n",
       "26  8F7X_gpr78_human_1         [2, 3, 4, 5, 6, 7]   RL.SDK   \n",
       "27  8F7X_gpr78_human_1         [2, 3, 4, 5, 6, 7]   RI.KDK   \n",
       "28  7W0O_5ht2a_human_1       [28, 29, 30, 31, 32]    HAKWM   \n",
       "29  7W0O_5ht2a_human_1       [28, 29, 30, 31, 32]    HFKWM   \n",
       "30  7W0O_5ht2a_human_1       [28, 29, 30, 31, 32]    HAFWM   \n",
       "31  7W0O_5ht2a_human_1       [28, 29, 30, 31, 32]    HAKFM   \n",
       "32  7W0O_5ht2a_human_1       [28, 29, 30, 31, 32]    VAKWM   \n",
       "35   6JOD_aa1r_human_1         [3, 4, 5, 6, 7, 8]   FFDYYY   \n",
       "36   6JOD_aa1r_human_1         [3, 4, 5, 6, 7, 8]   LFDYYY   \n",
       "37   6JOD_aa1r_human_1         [3, 4, 5, 6, 7, 8]   FLDYYY   \n",
       "38   6JOD_aa1r_human_1         [3, 4, 5, 6, 7, 8]   FFDYYA   \n",
       "39   6JOD_aa1r_human_1         [3, 4, 5, 6, 7, 8]   FFDIYY   \n",
       "\n",
       "                   frequency_by_position  sum_count  sum_frequency origin_seq  \\\n",
       "7          [12.0, 38.0, 7.0, 33.0, 25.0]       15.0          115.0      AAAAA   \n",
       "8          [12.0, 38.0, 7.0, 33.0, 25.0]       15.0          115.0      AAAAA   \n",
       "9          [12.0, 25.0, 7.0, 33.0, 25.0]       12.0          102.0      AAAAA   \n",
       "10         [12.0, 38.0, 7.0, 12.0, 25.0]       15.0           94.0      AAAAA   \n",
       "25  [140.0, 14.0, 0.0, 43.0, 19.0, 43.0]       19.0          259.0     AAAAAA   \n",
       "26  [140.0, 14.0, 0.0, 40.0, 19.0, 43.0]       18.0          256.0     AAAAAA   \n",
       "27   [140.0, 6.0, 0.0, 43.0, 19.0, 43.0]       16.0          251.0     AAAAAA   \n",
       "28         [60.0, 18.0, 33.0, 67.0, 6.0]       14.0          184.0      AAAAA   \n",
       "29         [60.0, 17.0, 33.0, 67.0, 6.0]       17.0          183.0      AAAAA   \n",
       "30         [60.0, 18.0, 29.0, 67.0, 6.0]       15.0          180.0      AAAAA   \n",
       "31         [60.0, 18.0, 33.0, 33.0, 6.0]       16.0          150.0      AAAAA   \n",
       "32         [12.0, 18.0, 33.0, 67.0, 6.0]       13.0          136.0      AAAAA   \n",
       "35  [17.0, 17.0, 12.0, 38.0, 38.0, 38.0]       32.0          160.0     AAAAAA   \n",
       "36  [14.0, 17.0, 12.0, 38.0, 38.0, 38.0]       31.0          157.0     AAAAAA   \n",
       "37  [17.0, 14.0, 12.0, 38.0, 38.0, 38.0]       31.0          157.0     AAAAAA   \n",
       "38  [17.0, 17.0, 12.0, 38.0, 38.0, 21.0]       30.0          143.0     AAAAAA   \n",
       "39  [17.0, 17.0, 12.0, 19.0, 38.0, 38.0]       31.0          141.0     AAAAAA   \n",
       "\n",
       "    median_by_position  std_by_position  cv_by_position  freq_perAA  \\\n",
       "7                 25.0        11.882761        0.475310   23.000000   \n",
       "8                 25.0        11.882761        0.475310   23.000000   \n",
       "9                 25.0         9.499474        0.379979   20.400000   \n",
       "10                12.0        11.303097        0.941925   18.800000   \n",
       "25                31.0        45.961639        1.482634   43.166667   \n",
       "26                29.5        45.977047        1.558544   42.666667   \n",
       "27                31.0        46.894977        1.512741   41.833333   \n",
       "28                33.0        23.523605        0.712837   36.800000   \n",
       "29                33.0        23.686283        0.717766   36.600000   \n",
       "30                29.0        23.706539        0.817467   36.000000   \n",
       "31                33.0        18.099724        0.548476   30.000000   \n",
       "32                18.0        21.830254        1.212792   27.200000   \n",
       "35                27.5        11.455227        0.416554   26.666667   \n",
       "36                27.5        11.922202        0.433535   26.166667   \n",
       "37                27.5        11.922202        0.433535   26.166667   \n",
       "38                19.0        10.350792        0.544779   23.833333   \n",
       "39                18.0        10.468206        0.581567   23.500000   \n",
       "\n",
       "    count_perAA  \n",
       "7      3.000000  \n",
       "8      3.000000  \n",
       "9      2.400000  \n",
       "10     3.000000  \n",
       "25     3.166667  \n",
       "26     3.000000  \n",
       "27     2.666667  \n",
       "28     2.800000  \n",
       "29     3.400000  \n",
       "30     3.000000  \n",
       "31     3.200000  \n",
       "32     2.600000  \n",
       "35     5.333333  \n",
       "36     5.166667  \n",
       "37     5.166667  \n",
       "38     5.000000  \n",
       "39     5.166667  "
      ]
     },
     "execution_count": 20,
     "metadata": {},
     "output_type": "execute_result"
    }
   ],
   "source": [
    "# 3.3 Scring\n",
    "def extract_truth_seq(ligand_residues, query_key, query_positions):\n",
    "    if query_key not in ligand_residues:\n",
    "        return \"Query key not found in ligand residues.\"\n",
    "    \n",
    "    query_amino_acids = \"\"\n",
    "    for pos in query_positions:\n",
    "        try:\n",
    "            index = np.where(np.array(ligand_residues[query_key][\"positions\"]) == pos)[0][0]\n",
    "            query_amino_acids += ligand_residues[query_key][\"sequence\"][index]\n",
    "        except IndexError:\n",
    "            query_amino_acids += \"-\"\n",
    "        except Exception as e:\n",
    "            return f\"An error occurred: {str(e)}\"\n",
    "    \n",
    "    return query_amino_acids\n",
    "\n",
    "result_df['origin_seq'] = result_df.apply(lambda row: extract_truth_seq(ligand_residues, row['struct_info'], row['residue_num']), axis=1)\n",
    "\n",
    "result_df['median_by_position'] = result_df['frequency_by_position'].apply(np.median)\n",
    "result_df['std_by_position'] = result_df['frequency_by_position'].apply(np.std)\n",
    "result_df['cv_by_position'] = result_df['std_by_position'] / result_df['median_by_position']\n",
    "\n",
    "def filter_condition(row):\n",
    "    valid_sequence = row['sequence'].replace('.', '')  \n",
    "    valid_origin_seq = row['origin_seq'].replace('-', '')  \n",
    "    return len(valid_sequence) >= 5 and len(valid_origin_seq) >= 5\n",
    "\n",
    "# filter\n",
    "filtered_df = result_df[result_df.apply(filter_condition, axis=1)]\n",
    "result_df = filtered_df.copy()\n",
    "\n",
    "result_df[\"freq_perAA\"] = result_df.apply(\n",
    "    lambda x: x[\"sum_frequency\"] / len(x[\"sequence\"]) if len(x[\"sequence\"]) > 0 else 0, axis=1)\n",
    "\n",
    "result_df[\"count_perAA\"] = result_df.apply(\n",
    "    lambda x: x[\"sum_count\"] / len(x[\"sequence\"]) if len(x[\"sequence\"]) > 0 else 0, axis=1)\n",
    "\n",
    "prediction_table = result_df.copy()\n",
    "prediction_table"
   ]
  },
  {
   "cell_type": "code",
   "execution_count": 90,
   "id": "8d574502",
   "metadata": {},
   "outputs": [],
   "source": []
  },
  {
   "cell_type": "code",
   "execution_count": null,
   "id": "aea7ccc8",
   "metadata": {},
   "outputs": [],
   "source": []
  }
 ],
 "metadata": {
  "kernelspec": {
   "display_name": "Python 3 (ipykernel)",
   "language": "python",
   "name": "python3"
  },
  "language_info": {
   "codemirror_mode": {
    "name": "ipython",
    "version": 3
   },
   "file_extension": ".py",
   "mimetype": "text/x-python",
   "name": "python",
   "nbconvert_exporter": "python",
   "pygments_lexer": "ipython3",
   "version": "3.7.4"
  }
 },
 "nbformat": 4,
 "nbformat_minor": 5
}
